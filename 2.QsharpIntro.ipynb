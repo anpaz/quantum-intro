{
 "cells": [
  {
   "cell_type": "markdown",
   "metadata": {
    "slideshow": {
     "slide_type": "slide"
    }
   },
   "source": [
    "# Introduction to Q# #"
   ]
  },
  {
   "cell_type": "markdown",
   "metadata": {
    "slideshow": {
     "slide_type": "notes"
    }
   },
   "source": [
    "\n",
    "Q# (q-sharp) is a domain-specific and [open-source](https://github.com/microsoft/qsharp-language) programming language, part of [Microsoft's Quantum Development Kit (QDK)](https://docs.microsoft.com/en-us/quantum/), used for expressing quantum algorithms. It is to be used for writing integrated hybrid programs that leverage both classical and quantum processing on a quantum processing unit (QPU).\n",
    "\n"
   ]
  },
  {
   "cell_type": "markdown",
   "metadata": {
    "slideshow": {
     "slide_type": "notes"
    }
   },
   "source": [
    "\n",
    "Operations and functions are the basic unit of execution in Q#. They are roughly equivalent to a function in C or C++ or Python, or a static method in C# or Java.\n",
    "\n",
    "A Q# operation is a quantum subroutine. That is, it is a callable routine that contains quantum operations.\n",
    "\n",
    "A Q# function is equivalent to a mathematical function, that is a complete deterministic subroutine used within a quantum algorithm that when invoked with the same arguments will always produce the same result. It may contain classical code but no quantum operations. Specifically, functions may not allocate or borrow qubits, nor may they call operations. It is possible, however, to pass them operations or qubits for processing.\n",
    "\n",
    "Together, operations and functions are called callables.\n",
    "\n"
   ]
  },
  {
   "cell_type": "markdown",
   "metadata": {
    "slideshow": {
     "slide_type": "notes"
    }
   },
   "source": [
    "\n",
    "IQ#, the Q# Jupyter kernel, allows you to write Q# functions and operations directly on a code cell and compile them by running the cell (pressing Ctrl/⌘+Enter). For example:"
   ]
  },
  {
   "cell_type": "code",
   "execution_count": 1,
   "metadata": {
    "slideshow": {
     "slide_type": "slide"
    }
   },
   "outputs": [
    {
     "data": {
      "application/x-qsharp-data": "[\"Hello\"]",
      "text/html": [
       "<ul><li>Hello</li></ul>"
      ],
      "text/plain": [
       "Hello"
      ]
     },
     "execution_count": 1,
     "metadata": {},
     "output_type": "execute_result"
    }
   ],
   "source": [
    "function Hello(name: String) : Unit {\n",
    "\n",
    "    // The following line will simply write a message to the console:\n",
    "    Message($\"Hello {name}!\");\n",
    "\n",
    "}"
   ]
  },
  {
   "cell_type": "markdown",
   "metadata": {
    "slideshow": {
     "slide_type": "notes"
    }
   },
   "source": [
    "When you **Run** the cell, Q# compiles the code and returns the name of the callables it found. \n",
    "In this case, it finds only one callable (`Hello`) that accepts one argument (`name` of type `String`) \n",
    "and returns no value (`Unit`, roughly equivalent to `void` in C).\n",
    "\n",
    "As you can see, Q# is structurally very similar to familiar\n",
    "languages such as C# and Java in its use of semicolons to end\n",
    "statements, curly brackets to group statements, function calls and doubleslash to introduce comments. \n",
    "It is a strongly typed language so all variables, arguments and return values\n",
    "must have an associated type. Q# supports a familar set of classical types like:\n",
    "- Int\n",
    "- BigInt\n",
    "- Bool\n",
    "- Double\n",
    "\n",
    "and also some quantum-specific types:\n",
    "- Qubit\n",
    "- Result\n",
    "- Pauli\n",
    "\n",
    "The complete set of primitive types can be found in [Q# type model documentation](https://docs.microsoft.com/en-us/quantum/language/type-model?view=qsharp-preview#primitive-types).\n",
    "\n",
    "In classical programs a bit, or binary digit, represents the basic unit of information and can be only one of two states: `0` or `1`.\n",
    "\n",
    "Similarly, the **qubit**, or quantum bit, represents the basic unit of information for quantum algorithms. As we explained before, a qubit when measured can only be in one of two states however during execution, the state of the qubit represents *the probability of reading* $|0\\rangle$ or $|1\\rangle$. \n",
    "\n",
    "In Q#, $|0\\rangle$ and $|1\\rangle$ are represented by `Zero` and `One` accordingly and qubits can only be allocated inside an operation with the `use` statement. When it gets allocated a qubit is always in the $|0\\rangle$  state. To measure a qubit and read its value you use the [`M`](https://docs.microsoft.com/en-us/qsharp/api/qsharp/microsoft.quantum.primitive.m) intrinsic operation.\n",
    "\n",
    "As such, the next `HelloQuantum` operation always return `Zero`:"
   ]
  },
  {
   "cell_type": "code",
   "execution_count": 2,
   "metadata": {
    "slideshow": {
     "slide_type": "slide"
    }
   },
   "outputs": [
    {
     "data": {
      "application/x-qsharp-data": "[\"HelloQuantum\"]",
      "text/html": [
       "<ul><li>HelloQuantum</li></ul>"
      ],
      "text/plain": [
       "HelloQuantum"
      ]
     },
     "execution_count": 2,
     "metadata": {},
     "output_type": "execute_result"
    }
   ],
   "source": [
    "operation HelloQuantum() : Result {\n",
    "    use q = Qubit();\n",
    "    return M(q);\n",
    "}"
   ]
  },
  {
   "cell_type": "markdown",
   "metadata": {
    "slideshow": {
     "slide_type": "notes"
    }
   },
   "source": [
    "To verify this, you can use the `%simulate` magic to simulate the execution of the operation in a QPU:"
   ]
  },
  {
   "cell_type": "code",
   "execution_count": 3,
   "metadata": {
    "slideshow": {
     "slide_type": "-"
    }
   },
   "outputs": [
    {
     "data": {
      "application/x-qsharp-data": "0",
      "text/plain": [
       "Zero"
      ]
     },
     "execution_count": 3,
     "metadata": {},
     "output_type": "execute_result"
    }
   ],
   "source": [
    "%simulate HelloQuantum"
   ]
  },
  {
   "cell_type": "markdown",
   "metadata": {
    "slideshow": {
     "slide_type": "notes"
    }
   },
   "source": [
    "A little more interesting example for a Q# operation is a quantum random bit generator (QRBG). A QRBG returns a different value each time it is invoked:"
   ]
  },
  {
   "cell_type": "code",
   "execution_count": 4,
   "metadata": {
    "slideshow": {
     "slide_type": "slide"
    }
   },
   "outputs": [
    {
     "data": {
      "application/x-qsharp-data": "[\"QRBG\"]",
      "text/html": [
       "<ul><li>QRBG</li></ul>"
      ],
      "text/plain": [
       "QRBG"
      ]
     },
     "execution_count": 4,
     "metadata": {},
     "output_type": "execute_result"
    }
   ],
   "source": [
    "operation QRBG() : Result {\n",
    "    use q = Qubit();\n",
    "\n",
    "    // Create superposition:\n",
    "    H(q);\n",
    "\n",
    "    // Assign the value of measuring the qubit to a variable\n",
    "    let r = M(q);\n",
    "    return r;\n",
    "}"
   ]
  },
  {
   "cell_type": "markdown",
   "metadata": {
    "slideshow": {
     "slide_type": "slide"
    }
   },
   "source": [
    "`QRBG` demonstrates some basic Q# features:\n",
    "\n",
    "- The `use` keyword allocates new qubits. The lifetime of the qubit is based on its scope, when the variable runs out of scope it is automatically deallocated.\n",
    "\n",
    "- Q# includes all common basic quantum gates, like `X` and `H`.\n",
    "\n",
    "- Immutable variables are created using `let`, in the previous example, the variable `r` is assigned the value returned by invoking `M` on qubit `q`.\n"
   ]
  },
  {
   "cell_type": "markdown",
   "metadata": {
    "slideshow": {
     "slide_type": "notes"
    }
   },
   "source": [
    "\n",
    "To verify the behavior of `QRBG`, we can create another Q# operation that invokes it 10 times, using a `for` loop on the variable `i` on a `Range` from 1 to 10 (inclusive), and prints the result to the console:"
   ]
  },
  {
   "cell_type": "code",
   "execution_count": 5,
   "metadata": {
    "slideshow": {
     "slide_type": "slide"
    }
   },
   "outputs": [
    {
     "data": {
      "application/x-qsharp-data": "[\"Main\"]",
      "text/html": [
       "<ul><li>Main</li></ul>"
      ],
      "text/plain": [
       "Main"
      ]
     },
     "execution_count": 5,
     "metadata": {},
     "output_type": "execute_result"
    }
   ],
   "source": [
    "operation Main() : Unit {\n",
    "    for i in 1..10 {\n",
    "        Message($\"{i}: {QRBG()}\");\n",
    "    }\n",
    "}"
   ]
  },
  {
   "cell_type": "code",
   "execution_count": 6,
   "metadata": {
    "slideshow": {
     "slide_type": "-"
    }
   },
   "outputs": [
    {
     "name": "stdout",
     "output_type": "stream",
     "text": [
      "1: Zero\n",
      "2: Zero\n",
      "3: One\n",
      "4: Zero\n",
      "5: Zero\n",
      "6: One\n",
      "7: One\n",
      "8: One\n",
      "9: One\n",
      "10: One\n"
     ]
    },
    {
     "data": {
      "application/x-qsharp-data": "{\"@type\":\"tuple\"}",
      "text/plain": [
       "()"
      ]
     },
     "execution_count": 6,
     "metadata": {},
     "output_type": "execute_result"
    }
   ],
   "source": [
    "%simulate Main"
   ]
  },
  {
   "cell_type": "markdown",
   "metadata": {
    "slideshow": {
     "slide_type": "notes"
    }
   },
   "source": [
    "Q# operations can return more than a single `Result`, let's modify `QRBG` to return an array:"
   ]
  },
  {
   "cell_type": "code",
   "execution_count": 7,
   "metadata": {
    "slideshow": {
     "slide_type": "slide"
    }
   },
   "outputs": [
    {
     "data": {
      "application/x-qsharp-data": "[\"QRBG2\"]",
      "text/html": [
       "<ul><li>QRBG2</li></ul>"
      ],
      "text/plain": [
       "QRBG2"
      ]
     },
     "execution_count": 7,
     "metadata": {},
     "output_type": "execute_result"
    }
   ],
   "source": [
    "open Microsoft.Quantum.Arrays;\n",
    "\n",
    "operation QRBG2(n: Int) : Result[] {    \n",
    "    use qs = Qubit[n];\n",
    "\n",
    "    mutable r = [Zero, size=n];\n",
    "    \n",
    "    ApplyToEach(H, qs);\n",
    "        \n",
    "    for i in IndexRange(qs) {\n",
    "        set r w/= i <- M(qs[i]);\n",
    "    }\n",
    "\n",
    "    return r;\n",
    "}"
   ]
  },
  {
   "cell_type": "code",
   "execution_count": 8,
   "metadata": {},
   "outputs": [
    {
     "data": {
      "application/x-qsharp-data": "[1,0,1,0,0,1,0,0]",
      "text/html": [
       "<ul><li>One</li><li>Zero</li><li>One</li><li>Zero</li><li>Zero</li><li>One</li><li>Zero</li><li>Zero</li></ul>"
      ],
      "text/plain": [
       "One, Zero, One, Zero, Zero, One, Zero, Zero"
      ]
     },
     "execution_count": 8,
     "metadata": {},
     "output_type": "execute_result"
    }
   ],
   "source": [
    "%simulate QRBG2 n=8"
   ]
  },
  {
   "cell_type": "markdown",
   "metadata": {
    "slideshow": {
     "slide_type": "slide"
    }
   },
   "source": [
    "`QRBG2` demonstrates other Q# features:\n",
    "\n",
    "- `mutable` is used to initialize variables that can be modified later in the code using `set`.\n",
    "- `[Zero, size=n]` is used to initialize an array. The first parameter specifies the default value of all entries in the array, and the `size` parameter specifies the number of elements in the array. In this case we create an array of `Result` elements with value `Zero` of size `n`.\n",
    "- As other languages, `[]` is used to access the element of an array.\n",
    "- New arrays can be created from existing ones via [copy-and-update expressions](https://docs.microsoft.com/en-us/quantum/language/expressions?view=qsharp-preview#copy-and-update-expressions). A copy-and-update expression is an expression of the form `arr w/ idx <- value` that constructs a new array with all elements set to the corresponding element in `arr`, except for the element(s) at `idx`, which are set to the one(s) in `value`. The resulting array can be assigned to the same variable by using the `w/=` operator.\n"
   ]
  },
  {
   "cell_type": "markdown",
   "metadata": {
    "slideshow": {
     "slide_type": "slide"
    }
   },
   "source": [
    "- Q# has a rich set of built-in libraries, for this example we're using:\n",
    "\n",
    "  -  [`ApplyToEach`](https://docs.microsoft.com/en-us/qsharp/api/qsharp/microsoft.quantum.canon.applytoeach): is an Operation that receives another operation as paramter and an array, and applies the given operation to each element of the array. In this particular case\n",
    "  -  [`IndexRange`](https://docs.microsoft.com/en-us/qsharp/api/qsharp/microsoft.quantum.arrays.indexrange): is a function that given an array, creates a range to iterate over the indices of the elements in the array.\n"
   ]
  },
  {
   "cell_type": "markdown",
   "metadata": {
    "slideshow": {
     "slide_type": "slide"
    }
   },
   "source": [
    "- All callables belong to a namespace. In Jupyter, you can use all the operations in the [Microsoft.Quantum.Intrinsic](https://docs.microsoft.com/en-us/qsharp/api/qsharp/microsoft.quantum.intrinsic?view=qsharp-preview) and the [Microsoft.Quantum.Canon](https://docs.microsoft.com/en-us/qsharp/api/qsharp/microsoft.quantum.canon?view=qsharp-preview) namespaces automatically. To use operations in other namespaces, like `IndexRange` from `Microsoft.Quantum.Array`, you have to use the fully qualified name of the operation (i.e. `Microsoft.Quantum.Array.IndexRange`) or include an `open` statement at the top.\n"
   ]
  },
  {
   "cell_type": "markdown",
   "metadata": {
    "slideshow": {
     "slide_type": "slide"
    }
   },
   "source": [
    "### Oracles\n",
    "\n",
    "Oracles are common in quantum algorithms. An Oracle is a function that returns `True` only when the input matches a criteria."
   ]
  },
  {
   "cell_type": "code",
   "execution_count": 9,
   "metadata": {
    "slideshow": {
     "slide_type": "slide"
    }
   },
   "outputs": [
    {
     "data": {
      "application/x-qsharp-data": "[\"AreEqual\",\"FlipOnOracle\",\"CreateOracle\",\"FlipOnValue\"]",
      "text/html": [
       "<ul><li>AreEqual</li><li>FlipOnOracle</li><li>CreateOracle</li><li>FlipOnValue</li></ul>"
      ],
      "text/plain": [
       "AreEqual, FlipOnOracle, CreateOracle, FlipOnValue"
      ]
     },
     "execution_count": 9,
     "metadata": {},
     "output_type": "execute_result"
    }
   ],
   "source": [
    "// Returns True when expected == actual\n",
    "function AreEqual(expected: Int, actual: Int) : Bool {\n",
    "    return expected == actual;\n",
    "}\n",
    "\n",
    "// A simple operation that accepts an oracle as parameter and applies `X`\n",
    "// only when the oracle returns True for the given input value.\n",
    "operation FlipOnOracle(q: Qubit, v: Int, oracle: Int -> Bool) : Unit {\n",
    "    if oracle(v) {\n",
    "        X(q);\n",
    "    }\n",
    "}\n",
    "\n",
    "// Creates and returns an oracle by using partial application:\n",
    "function CreateOracle() : Int -> Bool {\n",
    "    return AreEqual(6, _);\n",
    "}\n",
    "\n",
    "operation FlipOnValue(value: Int) : Result {\n",
    "    use q = Qubit();\n",
    "    // Create a new function \n",
    "    let oracle = CreateOracle();\n",
    "    FlipOnOracle(q, value, oracle);\n",
    "    return M(q);\n",
    "}"
   ]
  },
  {
   "cell_type": "code",
   "execution_count": 10,
   "metadata": {},
   "outputs": [
    {
     "data": {
      "application/x-qsharp-data": "0",
      "text/plain": [
       "Zero"
      ]
     },
     "execution_count": 10,
     "metadata": {},
     "output_type": "execute_result"
    }
   ],
   "source": [
    "%simulate FlipOnValue value=2"
   ]
  },
  {
   "cell_type": "code",
   "execution_count": 11,
   "metadata": {},
   "outputs": [
    {
     "data": {
      "application/x-qsharp-data": "1",
      "text/plain": [
       "One"
      ]
     },
     "execution_count": 11,
     "metadata": {},
     "output_type": "execute_result"
    }
   ],
   "source": [
    "%simulate FlipOnValue value=6"
   ]
  },
  {
   "cell_type": "markdown",
   "metadata": {
    "slideshow": {
     "slide_type": "slide"
    }
   },
   "source": [
    "Callables are first class object types in Q#.\n",
    "\n",
    "- Functions Types are specified as `(input_type) -> (output_type)`\n",
    "- Operation Types are specified as `(input_type) => (output_type)`\n",
    "- They can be used as any other data type.\n",
    "  * as input parameters: `oracle` in `FlipOnOracle` is an input parameter.\n",
    "  * as return values: `CreateOracle` returns a new function creaed using *partial application*.\n",
    "  * as variables: the function returned by `CreateOracle` is assigned to `oracle` inside the `FlipOnValue` function\n",
    "- *Partial application* allows to create new functions and operations by calling the function leaving certain parameters undetermined by passing `_`. For example `AreEqual(6, _)` returns a new function with only one input (i.e. `Int -> Bool`) that is equivalent to calling `AreEqual` with the first parameter always set to 6.\n",
    "\n"
   ]
  },
  {
   "cell_type": "markdown",
   "metadata": {
    "slideshow": {
     "slide_type": "slide"
    }
   },
   "source": [
    "### Running on the cloud\n",
    "\n",
    "So far, we've been simulating our Q# operations using the Jupyter kernel's built-in simulator. Connecting to an Azure Quantum Workspace allows you to run your Q# operations on a cloud simulator, or even on an actual QPU."
   ]
  },
  {
   "cell_type": "code",
   "execution_count": 12,
   "metadata": {
    "slideshow": {
     "slide_type": "slide"
    }
   },
   "outputs": [
    {
     "name": "stdout",
     "output_type": "stream",
     "text": [
      "Authenticated using Azure.Identity.AzureCliCredential\n",
      "\n",
      "\n",
      "Connected to Azure Quantum workspace demo-sim in location westus2.\n"
     ]
    },
    {
     "data": {
      "application/x-qsharp-data": "[{\"id\":\"ionq.qpu\",\"current_availability\":{},\"average_queue_time\":194},{\"id\":\"ionq.simulator\",\"current_availability\":{},\"average_queue_time\":2}]",
      "text/html": [
       "<table><thead><tr><th style=\"text-align: start;\">Target ID</th><th style=\"text-align: start;\">Current Availability</th><th style=\"text-align: start;\">Average Queue Time (Seconds)</th></tr></thead><tbody><tr><td style=\"text-align: start;\">ionq.qpu</td><td style=\"text-align: start;\">Available</td><td style=\"text-align: start;\">194</td></tr><tr><td style=\"text-align: start;\">ionq.simulator</td><td style=\"text-align: start;\">Available</td><td style=\"text-align: start;\">2</td></tr></tbody></table>"
      ],
      "text/plain": [
       "Target ID      Current Availability Average Queue Time (Seconds)\r\n",
       "-------------- --------- ---\r\n",
       "ionq.qpu       Available 194\r\n",
       "ionq.simulator Available 2\r\n"
      ]
     },
     "execution_count": 12,
     "metadata": {},
     "output_type": "execute_result"
    }
   ],
   "source": [
    "%azure.connect \n",
    "\"/subscriptions/916dfd6d-030c-4bd9-b579-7bb6d1926e97/resourceGroups/anpaz-demos/providers/Microsoft.Quantum/Workspaces/demo-sim\"\n",
    "location=westus2"
   ]
  },
  {
   "cell_type": "code",
   "execution_count": null,
   "metadata": {
    "slideshow": {
     "slide_type": "slide"
    }
   },
   "outputs": [
    {
     "name": "stdout",
     "output_type": "stream",
     "text": [
      "Loading package Microsoft.Quantum.Providers.IonQ and dependencies...\n",
      "Active target is now ionq.simulator\n"
     ]
    },
    {
     "data": {
      "application/x-qsharp-data": "{\"id\":\"ionq.simulator\",\"current_availability\":{},\"average_queue_time\":2}",
      "text/html": [
       "<table><thead><tr><th style=\"text-align: start;\">Target ID</th><th style=\"text-align: start;\">Current Availability</th><th style=\"text-align: start;\">Average Queue Time (Seconds)</th></tr></thead><tbody><tr><td style=\"text-align: start;\">ionq.simulator</td><td style=\"text-align: start;\">Available</td><td style=\"text-align: start;\">2</td></tr></tbody></table>"
      ],
      "text/plain": [
       "Target ID      Current Availability Average Queue Time (Seconds)\r\n",
       "-------------- --------- -\r\n",
       "ionq.simulator Available 2\r\n"
      ]
     },
     "execution_count": 24,
     "metadata": {},
     "output_type": "execute_result"
    }
   ],
   "source": [
    "%azure.target ionq.simulator"
   ]
  },
  {
   "cell_type": "markdown",
   "metadata": {
    "slideshow": {
     "slide_type": "notes"
    }
   },
   "source": [
    "First you connect to your workspace by using the `%azure.connect` magic which expects two parameters that you can obtain from the Azure Portal\n",
    "1. A resource-id\n",
    "2. A location\n",
    "\n",
    "If connected successfully, you get the list of targets available to execute your Q# operations. Using the `%azure.target` magic you select one to submit jobs. In this case, we selected the `ionq.simulator` to validate the operation before running to the QPU."
   ]
  },
  {
   "cell_type": "code",
   "execution_count": 25,
   "metadata": {
    "slideshow": {
     "slide_type": "slide"
    }
   },
   "outputs": [
    {
     "name": "stdout",
     "output_type": "stream",
     "text": [
      "Submitting QRBG2 to target ionq.simulator...\n",
      "Job successfully submitted for 500 shots.\n",
      "   Job name: QRBG2\n",
      "   Job ID: e10d344b-0838-4009-acee-1f0159a2945f\n"
     ]
    },
    {
     "data": {
      "application/x-qsharp-data": "{\"id\":\"e10d344b-0838-4009-acee-1f0159a2945f\",\"name\":\"QRBG2\",\"status\":\"Waiting\",\"uri\":\"https://portal.azure.com/#@microsoft.onmicrosoft.com/resource/subscriptions/916dfd6d-030c-4bd9-b579-7bb6d1926e97/resourceGroups/anpaz-demos/providers/Microsoft.Quantum/Workspaces/demo-sim/job_management?microsoft_azure_quantum_jobid=e10d344b-0838-4009-acee-1f0159a2945f\",\"provider\":\"ionq\",\"target\":\"ionq.simulator\",\"creation_time\":\"2022-03-02T04:59:59.1098243+00:00\",\"begin_execution_time\":null,\"end_execution_time\":null}",
      "text/html": [
       "<table><thead><tr><th style=\"text-align: start;\">Job Name</th><th style=\"text-align: start;\">Job ID</th><th style=\"text-align: start;\">Job Status</th><th style=\"text-align: start;\">Target</th><th style=\"text-align: start;\">Creation Time</th><th style=\"text-align: start;\">Begin Execution Time</th><th style=\"text-align: start;\">End Execution Time</th></tr></thead><tbody><tr><td style=\"text-align: start;\">QRBG2</td><td style=\"text-align: start;\"><a href=\"https://portal.azure.com/#@microsoft.onmicrosoft.com/resource/subscriptions/916dfd6d-030c-4bd9-b579-7bb6d1926e97/resourceGroups/anpaz-demos/providers/Microsoft.Quantum/Workspaces/demo-sim/job_management?microsoft_azure_quantum_jobid=e10d344b-0838-4009-acee-1f0159a2945f\" target=\"_blank\">e10d344b-0838-4009-acee-1f0159a2945f</a></td><td style=\"text-align: start;\">Waiting</td><td style=\"text-align: start;\">ionq.simulator</td><td style=\"text-align: start;\">3/2/2022 4:59:59 AM +00:00</td><td style=\"text-align: start;\"></td><td style=\"text-align: start;\"></td></tr></tbody></table>"
      ],
      "text/plain": [
       "Job Name Job ID                                                                                                                                                                                                                                                                                                                                           Job Status Target         Creation Time              Begin Execution Time End Execution Time\r\n",
       "----- ------------------------------------------------------------------------------------------------------------------------------------------------------------------------------------------------------------------------------------------------------------------------------------------------------------------------------------------------ ------- -------------- --------------------------\r\n",
       "QRBG2 <a href=\"https://portal.azure.com/#@microsoft.onmicrosoft.com/resource/subscriptions/916dfd6d-030c-4bd9-b579-7bb6d1926e97/resourceGroups/anpaz-demos/providers/Microsoft.Quantum/Workspaces/demo-sim/job_management?microsoft_azure_quantum_jobid=e10d344b-0838-4009-acee-1f0159a2945f\" target=\"_blank\">e10d344b-0838-4009-acee-1f0159a2945f</a> Waiting ionq.simulator 3/2/2022 4:59:59 AM +00:00\r\n"
      ]
     },
     "execution_count": 25,
     "metadata": {},
     "output_type": "execute_result"
    }
   ],
   "source": [
    "%azure.submit QRBG2 n=3"
   ]
  },
  {
   "cell_type": "markdown",
   "metadata": {
    "slideshow": {
     "slide_type": "notes"
    }
   },
   "source": [
    "`%azure.submit` works like `%simulate`, except that instead of simulating it locally sends the job for execution on the cloud. `%azure.submit` returns a job-id that you can use to check status using the `%azure.status` magic, or get the results once the job finishes execution by using `%azure.output`."
   ]
  },
  {
   "cell_type": "code",
   "execution_count": 27,
   "metadata": {
    "slideshow": {
     "slide_type": "slide"
    }
   },
   "outputs": [
    {
     "data": {
      "application/x-qsharp-data": "{\"id\":\"e10d344b-0838-4009-acee-1f0159a2945f\",\"name\":\"QRBG2\",\"status\":\"Succeeded\",\"uri\":\"https://portal.azure.com/#@microsoft.onmicrosoft.com/resource/subscriptions/916dfd6d-030c-4bd9-b579-7bb6d1926e97/resourceGroups/anpaz-demos/providers/Microsoft.Quantum/Workspaces/demo-sim/job_management?microsoft_azure_quantum_jobid=e10d344b-0838-4009-acee-1f0159a2945f\",\"provider\":\"ionq\",\"target\":\"ionq.simulator\",\"creation_time\":\"2022-03-02T04:59:59.1098243+00:00\",\"begin_execution_time\":\"2022-03-02T05:00:02.358+00:00\",\"end_execution_time\":\"2022-03-02T05:00:02.44+00:00\"}",
      "text/html": [
       "<table><thead><tr><th style=\"text-align: start;\">Job Name</th><th style=\"text-align: start;\">Job ID</th><th style=\"text-align: start;\">Job Status</th><th style=\"text-align: start;\">Target</th><th style=\"text-align: start;\">Creation Time</th><th style=\"text-align: start;\">Begin Execution Time</th><th style=\"text-align: start;\">End Execution Time</th></tr></thead><tbody><tr><td style=\"text-align: start;\">QRBG2</td><td style=\"text-align: start;\"><a href=\"https://portal.azure.com/#@microsoft.onmicrosoft.com/resource/subscriptions/916dfd6d-030c-4bd9-b579-7bb6d1926e97/resourceGroups/anpaz-demos/providers/Microsoft.Quantum/Workspaces/demo-sim/job_management?microsoft_azure_quantum_jobid=e10d344b-0838-4009-acee-1f0159a2945f\" target=\"_blank\">e10d344b-0838-4009-acee-1f0159a2945f</a></td><td style=\"text-align: start;\">Succeeded</td><td style=\"text-align: start;\">ionq.simulator</td><td style=\"text-align: start;\">3/2/2022 4:59:59 AM +00:00</td><td style=\"text-align: start;\">3/2/2022 5:00:02 AM +00:00</td><td style=\"text-align: start;\">3/2/2022 5:00:02 AM +00:00</td></tr></tbody></table>"
      ],
      "text/plain": [
       "Job Name Job ID                                                                                                                                                                                                                                                                                                                                           Job Status Target         Creation Time              Begin Execution Time       End Execution Time\r\n",
       "----- ------------------------------------------------------------------------------------------------------------------------------------------------------------------------------------------------------------------------------------------------------------------------------------------------------------------------------------------------ --------- -------------- -------------------------- -------------------------- --------------------------\r\n",
       "QRBG2 <a href=\"https://portal.azure.com/#@microsoft.onmicrosoft.com/resource/subscriptions/916dfd6d-030c-4bd9-b579-7bb6d1926e97/resourceGroups/anpaz-demos/providers/Microsoft.Quantum/Workspaces/demo-sim/job_management?microsoft_azure_quantum_jobid=e10d344b-0838-4009-acee-1f0159a2945f\" target=\"_blank\">e10d344b-0838-4009-acee-1f0159a2945f</a> Succeeded ionq.simulator 3/2/2022 4:59:59 AM +00:00 3/2/2022 5:00:02 AM +00:00 3/2/2022 5:00:02 AM +00:00\r\n"
      ]
     },
     "execution_count": 27,
     "metadata": {},
     "output_type": "execute_result"
    }
   ],
   "source": [
    "%azure.status"
   ]
  },
  {
   "cell_type": "code",
   "execution_count": 16,
   "metadata": {
    "slideshow": {
     "slide_type": "slide"
    }
   },
   "outputs": [
    {
     "data": {
      "application/x-qsharp-data": "{\"[0,0,0]\":0.125,\"[1,0,0]\":0.125,\"[0,1,0]\":0.125,\"[1,1,0]\":0.125,\"[0,0,1]\":0.125,\"[1,0,1]\":0.125,\"[0,1,1]\":0.125,\"[1,1,1]\":0.125}",
      "text/html": [
       "\r\n",
       "                    <table style=\"table-layout: fixed; width: 100%\">\r\n",
       "                        <thead>\r\n",
       "                            <tr>\r\n",
       "                                <th style=\"text-align: left; width: 25ch\">Result</th>\r\n",
       "                                <th style=\"text-align: left; width: 25ch\">Frequency</th>\r\n",
       "                                <th style=\"text-align: left; width: calc(100% - 25ch - 25ch)\">Histogram</th>\r\n",
       "                            </tr>\r\n",
       "                        </thead>\r\n",
       "                        <tbody>\r\n",
       "                            \r\n",
       "                            <tr>\r\n",
       "                                <td style=\"text-align: left; width: 25ch\">[0,0,0]</td>\r\n",
       "                                <td style=\"text-align: left; width: 25ch\">0.125</td>\r\n",
       "                                <td style=\"text-align: left; width: calc(100% - 25ch - 25ch)\">\r\n",
       "                                    <progress\r\n",
       "                                        max=\"100\"\r\n",
       "                                        value=\"12.5\"\r\n",
       "                                        style=\"width: 100%;\"\r\n",
       "                                    >\r\n",
       "                                </td>\r\n",
       "                            </tr>\r\n",
       "                        \n",
       "\r\n",
       "                            <tr>\r\n",
       "                                <td style=\"text-align: left; width: 25ch\">[1,0,0]</td>\r\n",
       "                                <td style=\"text-align: left; width: 25ch\">0.125</td>\r\n",
       "                                <td style=\"text-align: left; width: calc(100% - 25ch - 25ch)\">\r\n",
       "                                    <progress\r\n",
       "                                        max=\"100\"\r\n",
       "                                        value=\"12.5\"\r\n",
       "                                        style=\"width: 100%;\"\r\n",
       "                                    >\r\n",
       "                                </td>\r\n",
       "                            </tr>\r\n",
       "                        \n",
       "\r\n",
       "                            <tr>\r\n",
       "                                <td style=\"text-align: left; width: 25ch\">[0,1,0]</td>\r\n",
       "                                <td style=\"text-align: left; width: 25ch\">0.125</td>\r\n",
       "                                <td style=\"text-align: left; width: calc(100% - 25ch - 25ch)\">\r\n",
       "                                    <progress\r\n",
       "                                        max=\"100\"\r\n",
       "                                        value=\"12.5\"\r\n",
       "                                        style=\"width: 100%;\"\r\n",
       "                                    >\r\n",
       "                                </td>\r\n",
       "                            </tr>\r\n",
       "                        \n",
       "\r\n",
       "                            <tr>\r\n",
       "                                <td style=\"text-align: left; width: 25ch\">[1,1,0]</td>\r\n",
       "                                <td style=\"text-align: left; width: 25ch\">0.125</td>\r\n",
       "                                <td style=\"text-align: left; width: calc(100% - 25ch - 25ch)\">\r\n",
       "                                    <progress\r\n",
       "                                        max=\"100\"\r\n",
       "                                        value=\"12.5\"\r\n",
       "                                        style=\"width: 100%;\"\r\n",
       "                                    >\r\n",
       "                                </td>\r\n",
       "                            </tr>\r\n",
       "                        \n",
       "\r\n",
       "                            <tr>\r\n",
       "                                <td style=\"text-align: left; width: 25ch\">[0,0,1]</td>\r\n",
       "                                <td style=\"text-align: left; width: 25ch\">0.125</td>\r\n",
       "                                <td style=\"text-align: left; width: calc(100% - 25ch - 25ch)\">\r\n",
       "                                    <progress\r\n",
       "                                        max=\"100\"\r\n",
       "                                        value=\"12.5\"\r\n",
       "                                        style=\"width: 100%;\"\r\n",
       "                                    >\r\n",
       "                                </td>\r\n",
       "                            </tr>\r\n",
       "                        \n",
       "\r\n",
       "                            <tr>\r\n",
       "                                <td style=\"text-align: left; width: 25ch\">[1,0,1]</td>\r\n",
       "                                <td style=\"text-align: left; width: 25ch\">0.125</td>\r\n",
       "                                <td style=\"text-align: left; width: calc(100% - 25ch - 25ch)\">\r\n",
       "                                    <progress\r\n",
       "                                        max=\"100\"\r\n",
       "                                        value=\"12.5\"\r\n",
       "                                        style=\"width: 100%;\"\r\n",
       "                                    >\r\n",
       "                                </td>\r\n",
       "                            </tr>\r\n",
       "                        \n",
       "\r\n",
       "                            <tr>\r\n",
       "                                <td style=\"text-align: left; width: 25ch\">[0,1,1]</td>\r\n",
       "                                <td style=\"text-align: left; width: 25ch\">0.125</td>\r\n",
       "                                <td style=\"text-align: left; width: calc(100% - 25ch - 25ch)\">\r\n",
       "                                    <progress\r\n",
       "                                        max=\"100\"\r\n",
       "                                        value=\"12.5\"\r\n",
       "                                        style=\"width: 100%;\"\r\n",
       "                                    >\r\n",
       "                                </td>\r\n",
       "                            </tr>\r\n",
       "                        \n",
       "\r\n",
       "                            <tr>\r\n",
       "                                <td style=\"text-align: left; width: 25ch\">[1,1,1]</td>\r\n",
       "                                <td style=\"text-align: left; width: 25ch\">0.125</td>\r\n",
       "                                <td style=\"text-align: left; width: calc(100% - 25ch - 25ch)\">\r\n",
       "                                    <progress\r\n",
       "                                        max=\"100\"\r\n",
       "                                        value=\"12.5\"\r\n",
       "                                        style=\"width: 100%;\"\r\n",
       "                                    >\r\n",
       "                                </td>\r\n",
       "                            </tr>\r\n",
       "                        \r\n",
       "                        </tbody>\r\n",
       "                    </table>\r\n",
       "                "
      ],
      "text/plain": [
       "Result  Frequency\r\n",
       "------- -----\r\n",
       "[0,0,0] 0.125\r\n",
       "[1,0,0] 0.125\r\n",
       "[0,1,0] 0.125\r\n",
       "[1,1,0] 0.125\r\n",
       "[0,0,1] 0.125\r\n",
       "[1,0,1] 0.125\r\n",
       "[0,1,1] 0.125\r\n",
       "[1,1,1] 0.125\r\n"
      ]
     },
     "execution_count": 16,
     "metadata": {},
     "output_type": "execute_result"
    }
   ],
   "source": [
    "%azure.output"
   ]
  },
  {
   "cell_type": "markdown",
   "metadata": {
    "slideshow": {
     "slide_type": "slide"
    }
   },
   "source": [
    "Now, run against the quantum device:"
   ]
  },
  {
   "cell_type": "code",
   "execution_count": 20,
   "metadata": {},
   "outputs": [
    {
     "name": "stdout",
     "output_type": "stream",
     "text": [
      "Loading package Microsoft.Quantum.Providers.IonQ and dependencies...\n",
      "Active target is now ionq.qpu\n"
     ]
    },
    {
     "data": {
      "application/x-qsharp-data": "{\"id\":\"ionq.qpu\",\"current_availability\":{},\"average_queue_time\":194}",
      "text/html": [
       "<table><thead><tr><th style=\"text-align: start;\">Target ID</th><th style=\"text-align: start;\">Current Availability</th><th style=\"text-align: start;\">Average Queue Time (Seconds)</th></tr></thead><tbody><tr><td style=\"text-align: start;\">ionq.qpu</td><td style=\"text-align: start;\">Available</td><td style=\"text-align: start;\">194</td></tr></tbody></table>"
      ],
      "text/plain": [
       "Target ID Current Availability Average Queue Time (Seconds)\r\n",
       "-------- --------- ---\r\n",
       "ionq.qpu Available 194\r\n"
      ]
     },
     "execution_count": 20,
     "metadata": {},
     "output_type": "execute_result"
    }
   ],
   "source": [
    "%azure.target ionq.qpu"
   ]
  },
  {
   "cell_type": "code",
   "execution_count": 21,
   "metadata": {},
   "outputs": [
    {
     "name": "stdout",
     "output_type": "stream",
     "text": [
      "Submitting QRBG2 to target ionq.qpu...\n",
      "Job successfully submitted for 500 shots.\n",
      "   Job name: QRBG2\n",
      "   Job ID: b08c4b80-a11f-4d99-9d39-45969fce722f\n"
     ]
    },
    {
     "data": {
      "application/x-qsharp-data": "{\"id\":\"b08c4b80-a11f-4d99-9d39-45969fce722f\",\"name\":\"QRBG2\",\"status\":\"Waiting\",\"uri\":\"https://portal.azure.com/#@microsoft.onmicrosoft.com/resource/subscriptions/916dfd6d-030c-4bd9-b579-7bb6d1926e97/resourceGroups/anpaz-demos/providers/Microsoft.Quantum/Workspaces/demo-sim/job_management?microsoft_azure_quantum_jobid=b08c4b80-a11f-4d99-9d39-45969fce722f\",\"provider\":\"ionq\",\"target\":\"ionq.qpu\",\"creation_time\":\"2022-03-02T04:54:01.7145077+00:00\",\"begin_execution_time\":null,\"end_execution_time\":null}",
      "text/html": [
       "<table><thead><tr><th style=\"text-align: start;\">Job Name</th><th style=\"text-align: start;\">Job ID</th><th style=\"text-align: start;\">Job Status</th><th style=\"text-align: start;\">Target</th><th style=\"text-align: start;\">Creation Time</th><th style=\"text-align: start;\">Begin Execution Time</th><th style=\"text-align: start;\">End Execution Time</th></tr></thead><tbody><tr><td style=\"text-align: start;\">QRBG2</td><td style=\"text-align: start;\"><a href=\"https://portal.azure.com/#@microsoft.onmicrosoft.com/resource/subscriptions/916dfd6d-030c-4bd9-b579-7bb6d1926e97/resourceGroups/anpaz-demos/providers/Microsoft.Quantum/Workspaces/demo-sim/job_management?microsoft_azure_quantum_jobid=b08c4b80-a11f-4d99-9d39-45969fce722f\" target=\"_blank\">b08c4b80-a11f-4d99-9d39-45969fce722f</a></td><td style=\"text-align: start;\">Waiting</td><td style=\"text-align: start;\">ionq.qpu</td><td style=\"text-align: start;\">3/2/2022 4:54:01 AM +00:00</td><td style=\"text-align: start;\"></td><td style=\"text-align: start;\"></td></tr></tbody></table>"
      ],
      "text/plain": [
       "Job Name Job ID                                                                                                                                                                                                                                                                                                                                           Job Status Target   Creation Time              Begin Execution Time End Execution Time\r\n",
       "----- ------------------------------------------------------------------------------------------------------------------------------------------------------------------------------------------------------------------------------------------------------------------------------------------------------------------------------------------------ ------- -------- --------------------------\r\n",
       "QRBG2 <a href=\"https://portal.azure.com/#@microsoft.onmicrosoft.com/resource/subscriptions/916dfd6d-030c-4bd9-b579-7bb6d1926e97/resourceGroups/anpaz-demos/providers/Microsoft.Quantum/Workspaces/demo-sim/job_management?microsoft_azure_quantum_jobid=b08c4b80-a11f-4d99-9d39-45969fce722f\" target=\"_blank\">b08c4b80-a11f-4d99-9d39-45969fce722f</a> Waiting ionq.qpu 3/2/2022 4:54:01 AM +00:00\r\n"
      ]
     },
     "execution_count": 21,
     "metadata": {},
     "output_type": "execute_result"
    }
   ],
   "source": [
    "%azure.submit QRBG2 n=3"
   ]
  },
  {
   "cell_type": "markdown",
   "metadata": {
    "slideshow": {
     "slide_type": "slide"
    }
   },
   "source": [
    "This might take a while. Query the state until the output changes to `Succeeded`"
   ]
  },
  {
   "cell_type": "code",
   "execution_count": 30,
   "metadata": {},
   "outputs": [
    {
     "data": {
      "application/x-qsharp-data": "{\"id\":\"b08c4b80-a11f-4d99-9d39-45969fce722f\",\"name\":\"QRBG2\",\"status\":\"Succeeded\",\"uri\":\"https://portal.azure.com/#@microsoft.onmicrosoft.com/resource/subscriptions/916dfd6d-030c-4bd9-b579-7bb6d1926e97/resourceGroups/anpaz-demos/providers/Microsoft.Quantum/Workspaces/demo-sim/job_management?microsoft_azure_quantum_jobid=b08c4b80-a11f-4d99-9d39-45969fce722f\",\"provider\":\"ionq\",\"target\":\"ionq.qpu\",\"creation_time\":\"2022-03-02T04:54:01.7145077+00:00\",\"begin_execution_time\":\"2022-03-02T05:43:28.156+00:00\",\"end_execution_time\":\"2022-03-02T05:43:31.927+00:00\"}",
      "text/html": [
       "<table><thead><tr><th style=\"text-align: start;\">Job Name</th><th style=\"text-align: start;\">Job ID</th><th style=\"text-align: start;\">Job Status</th><th style=\"text-align: start;\">Target</th><th style=\"text-align: start;\">Creation Time</th><th style=\"text-align: start;\">Begin Execution Time</th><th style=\"text-align: start;\">End Execution Time</th></tr></thead><tbody><tr><td style=\"text-align: start;\">QRBG2</td><td style=\"text-align: start;\"><a href=\"https://portal.azure.com/#@microsoft.onmicrosoft.com/resource/subscriptions/916dfd6d-030c-4bd9-b579-7bb6d1926e97/resourceGroups/anpaz-demos/providers/Microsoft.Quantum/Workspaces/demo-sim/job_management?microsoft_azure_quantum_jobid=b08c4b80-a11f-4d99-9d39-45969fce722f\" target=\"_blank\">b08c4b80-a11f-4d99-9d39-45969fce722f</a></td><td style=\"text-align: start;\">Succeeded</td><td style=\"text-align: start;\">ionq.qpu</td><td style=\"text-align: start;\">3/2/2022 4:54:01 AM +00:00</td><td style=\"text-align: start;\">3/2/2022 5:43:28 AM +00:00</td><td style=\"text-align: start;\">3/2/2022 5:43:31 AM +00:00</td></tr></tbody></table>"
      ],
      "text/plain": [
       "Job Name Job ID                                                                                                                                                                                                                                                                                                                                           Job Status Target   Creation Time              Begin Execution Time       End Execution Time\r\n",
       "----- ------------------------------------------------------------------------------------------------------------------------------------------------------------------------------------------------------------------------------------------------------------------------------------------------------------------------------------------------ --------- -------- -------------------------- -------------------------- --------------------------\r\n",
       "QRBG2 <a href=\"https://portal.azure.com/#@microsoft.onmicrosoft.com/resource/subscriptions/916dfd6d-030c-4bd9-b579-7bb6d1926e97/resourceGroups/anpaz-demos/providers/Microsoft.Quantum/Workspaces/demo-sim/job_management?microsoft_azure_quantum_jobid=b08c4b80-a11f-4d99-9d39-45969fce722f\" target=\"_blank\">b08c4b80-a11f-4d99-9d39-45969fce722f</a> Succeeded ionq.qpu 3/2/2022 4:54:01 AM +00:00 3/2/2022 5:43:28 AM +00:00 3/2/2022 5:43:31 AM +00:00\r\n"
      ]
     },
     "execution_count": 30,
     "metadata": {},
     "output_type": "execute_result"
    }
   ],
   "source": [
    "%azure.status b08c4b80-a11f-4d99-9d39-45969fce722f"
   ]
  },
  {
   "cell_type": "code",
   "execution_count": 31,
   "metadata": {},
   "outputs": [
    {
     "data": {
      "application/x-qsharp-data": "{\"[0,0,0]\":0.118,\"[1,0,0]\":0.152,\"[0,1,0]\":0.08,\"[1,1,0]\":0.114,\"[0,0,1]\":0.158,\"[1,0,1]\":0.154,\"[0,1,1]\":0.108,\"[1,1,1]\":0.116}",
      "text/html": [
       "\r\n",
       "                    <table style=\"table-layout: fixed; width: 100%\">\r\n",
       "                        <thead>\r\n",
       "                            <tr>\r\n",
       "                                <th style=\"text-align: left; width: 25ch\">Result</th>\r\n",
       "                                <th style=\"text-align: left; width: 25ch\">Frequency</th>\r\n",
       "                                <th style=\"text-align: left; width: calc(100% - 25ch - 25ch)\">Histogram</th>\r\n",
       "                            </tr>\r\n",
       "                        </thead>\r\n",
       "                        <tbody>\r\n",
       "                            \r\n",
       "                            <tr>\r\n",
       "                                <td style=\"text-align: left; width: 25ch\">[0,0,0]</td>\r\n",
       "                                <td style=\"text-align: left; width: 25ch\">0.118</td>\r\n",
       "                                <td style=\"text-align: left; width: calc(100% - 25ch - 25ch)\">\r\n",
       "                                    <progress\r\n",
       "                                        max=\"100\"\r\n",
       "                                        value=\"11.799999999999999\"\r\n",
       "                                        style=\"width: 100%;\"\r\n",
       "                                    >\r\n",
       "                                </td>\r\n",
       "                            </tr>\r\n",
       "                        \n",
       "\r\n",
       "                            <tr>\r\n",
       "                                <td style=\"text-align: left; width: 25ch\">[1,0,0]</td>\r\n",
       "                                <td style=\"text-align: left; width: 25ch\">0.152</td>\r\n",
       "                                <td style=\"text-align: left; width: calc(100% - 25ch - 25ch)\">\r\n",
       "                                    <progress\r\n",
       "                                        max=\"100\"\r\n",
       "                                        value=\"15.2\"\r\n",
       "                                        style=\"width: 100%;\"\r\n",
       "                                    >\r\n",
       "                                </td>\r\n",
       "                            </tr>\r\n",
       "                        \n",
       "\r\n",
       "                            <tr>\r\n",
       "                                <td style=\"text-align: left; width: 25ch\">[0,1,0]</td>\r\n",
       "                                <td style=\"text-align: left; width: 25ch\">0.08</td>\r\n",
       "                                <td style=\"text-align: left; width: calc(100% - 25ch - 25ch)\">\r\n",
       "                                    <progress\r\n",
       "                                        max=\"100\"\r\n",
       "                                        value=\"8\"\r\n",
       "                                        style=\"width: 100%;\"\r\n",
       "                                    >\r\n",
       "                                </td>\r\n",
       "                            </tr>\r\n",
       "                        \n",
       "\r\n",
       "                            <tr>\r\n",
       "                                <td style=\"text-align: left; width: 25ch\">[1,1,0]</td>\r\n",
       "                                <td style=\"text-align: left; width: 25ch\">0.114</td>\r\n",
       "                                <td style=\"text-align: left; width: calc(100% - 25ch - 25ch)\">\r\n",
       "                                    <progress\r\n",
       "                                        max=\"100\"\r\n",
       "                                        value=\"11.4\"\r\n",
       "                                        style=\"width: 100%;\"\r\n",
       "                                    >\r\n",
       "                                </td>\r\n",
       "                            </tr>\r\n",
       "                        \n",
       "\r\n",
       "                            <tr>\r\n",
       "                                <td style=\"text-align: left; width: 25ch\">[0,0,1]</td>\r\n",
       "                                <td style=\"text-align: left; width: 25ch\">0.158</td>\r\n",
       "                                <td style=\"text-align: left; width: calc(100% - 25ch - 25ch)\">\r\n",
       "                                    <progress\r\n",
       "                                        max=\"100\"\r\n",
       "                                        value=\"15.8\"\r\n",
       "                                        style=\"width: 100%;\"\r\n",
       "                                    >\r\n",
       "                                </td>\r\n",
       "                            </tr>\r\n",
       "                        \n",
       "\r\n",
       "                            <tr>\r\n",
       "                                <td style=\"text-align: left; width: 25ch\">[1,0,1]</td>\r\n",
       "                                <td style=\"text-align: left; width: 25ch\">0.154</td>\r\n",
       "                                <td style=\"text-align: left; width: calc(100% - 25ch - 25ch)\">\r\n",
       "                                    <progress\r\n",
       "                                        max=\"100\"\r\n",
       "                                        value=\"15.4\"\r\n",
       "                                        style=\"width: 100%;\"\r\n",
       "                                    >\r\n",
       "                                </td>\r\n",
       "                            </tr>\r\n",
       "                        \n",
       "\r\n",
       "                            <tr>\r\n",
       "                                <td style=\"text-align: left; width: 25ch\">[0,1,1]</td>\r\n",
       "                                <td style=\"text-align: left; width: 25ch\">0.108</td>\r\n",
       "                                <td style=\"text-align: left; width: calc(100% - 25ch - 25ch)\">\r\n",
       "                                    <progress\r\n",
       "                                        max=\"100\"\r\n",
       "                                        value=\"10.8\"\r\n",
       "                                        style=\"width: 100%;\"\r\n",
       "                                    >\r\n",
       "                                </td>\r\n",
       "                            </tr>\r\n",
       "                        \n",
       "\r\n",
       "                            <tr>\r\n",
       "                                <td style=\"text-align: left; width: 25ch\">[1,1,1]</td>\r\n",
       "                                <td style=\"text-align: left; width: 25ch\">0.116</td>\r\n",
       "                                <td style=\"text-align: left; width: calc(100% - 25ch - 25ch)\">\r\n",
       "                                    <progress\r\n",
       "                                        max=\"100\"\r\n",
       "                                        value=\"11.600000000000001\"\r\n",
       "                                        style=\"width: 100%;\"\r\n",
       "                                    >\r\n",
       "                                </td>\r\n",
       "                            </tr>\r\n",
       "                        \r\n",
       "                        </tbody>\r\n",
       "                    </table>\r\n",
       "                "
      ],
      "text/plain": [
       "Result  Frequency\r\n",
       "------- -----\r\n",
       "[0,0,0] 0.118\r\n",
       "[1,0,0] 0.152\r\n",
       "[0,1,0] 0.08\r\n",
       "[1,1,0] 0.114\r\n",
       "[0,0,1] 0.158\r\n",
       "[1,0,1] 0.154\r\n",
       "[0,1,1] 0.108\r\n",
       "[1,1,1] 0.116\r\n"
      ]
     },
     "execution_count": 31,
     "metadata": {},
     "output_type": "execute_result"
    }
   ],
   "source": [
    "%azure.output b08c4b80-a11f-4d99-9d39-45969fce722f"
   ]
  },
  {
   "cell_type": "markdown",
   "metadata": {
    "slideshow": {
     "slide_type": "slide"
    }
   },
   "source": [
    "### Getting Help ###\n",
    "\n",
    "Q# supports adding documentation to operations via comments in the code. When such documentation exists, you can access it from the notebook by adding a question mark before or after the operation name on a code cell, for example:"
   ]
  },
  {
   "cell_type": "code",
   "execution_count": 17,
   "metadata": {
    "slideshow": {
     "slide_type": "slide"
    }
   },
   "outputs": [
    {
     "data": {
      "application/x-qsharp-data": "{\"name\":\"Microsoft.Quantum.Intrinsic.X\",\"kind\":3,\"source\":\"C:\\\\Users\\\\anpaz\\\\.dotnet\\\\tools\\\\.store\\\\microsoft.quantum.iqsharp\\\\0.21.2112180703\\\\microsoft.quantum.iqsharp\\\\0.21.2112180703\\\\tools\\\\netcoreapp3.1\\\\any\\\\Microsoft.Quantum.QSharp.Core.dll\",\"documentation\":\" # Summary\\n Applies the Pauli $X$ gate.\\n\\n # Description\\n \\\\begin{align}\\n     \\\\sigma_x \\\\mathrel{:=}\\n     \\\\begin{bmatrix}\\n         0 & 1 \\\\\\\\\\\\\\\\\\n         1 & 0\\n     \\\\end{bmatrix}.\\n \\\\end{align}\\n\\n # Input\\n ## qubit\\n Qubit to which the gate should be applied.\",\"summary\":\"Applies the Pauli $X$ gate.\",\"description\":\"\\\\begin{align}\\r\\\\sigma_x \\\\mathrel{:=}\\r\\\\begin{bmatrix}\\r0 & 1 \\\\\\\\\\\\\\\\\\r1 & 0\\r\\\\end{bmatrix}.\\r\\\\end{align}\",\"inputs\":{\"qubit\":\"Qubit to which the gate should be applied.\"}}",
      "text/html": [
       "\r\n",
       "                    <h4><i class=\"fa fas fa-terminal\"></i> Microsoft.Quantum.Intrinsic.X <a href=\"C:\\Users\\anpaz\\.dotnet\\tools\\.store\\microsoft.quantum.iqsharp\\0.21.2112180703\\microsoft.quantum.iqsharp\\0.21.2112180703\\tools\\netcoreapp3.1\\any\\Microsoft.Quantum.QSharp.Core.dll\"><i class=\"fa fas fa-code\"></i></a></h4>\r\n",
       "                    <h5>Summary</h5><p>Applies the Pauli $X$ gate.</p>\n",
       "\r\n",
       "                    <h5>Description</h5><p>\\begin{align}\n",
       "\\sigma_x \\mathrel{:=}\n",
       "\\begin{bmatrix}\n",
       "0 &amp; 1 \\\\\n",
       "1 &amp; 0\n",
       "\\end{bmatrix}.\n",
       "\\end{align}</p>\n",
       "\r\n",
       "                "
      ],
      "text/plain": [
       "Microsoft.Quantum.Intrinsic.X"
      ]
     },
     "execution_count": 17,
     "metadata": {},
     "output_type": "execute_result"
    }
   ],
   "source": [
    "Microsoft.Quantum.Intrinsic.X?"
   ]
  },
  {
   "cell_type": "code",
   "execution_count": 18,
   "metadata": {
    "slideshow": {
     "slide_type": "slide"
    }
   },
   "outputs": [
    {
     "data": {
      "application/x-qsharp-data": "[\"AreEqual\",\"CreateOracle\",\"FlipOnOracle\",\"FlipOnValue\",\"Hello\",\"HelloQuantum\",\"Main\",\"QRBG\",\"QRBG2\"]",
      "text/html": [
       "<ul><li>AreEqual</li><li>CreateOracle</li><li>FlipOnOracle</li><li>FlipOnValue</li><li>Hello</li><li>HelloQuantum</li><li>Main</li><li>QRBG</li><li>QRBG2</li></ul>"
      ],
      "text/plain": [
       "AreEqual, CreateOracle, FlipOnOracle, FlipOnValue, Hello, HelloQuantum, Main, QRBG, QRBG2"
      ]
     },
     "execution_count": 18,
     "metadata": {},
     "output_type": "execute_result"
    }
   ],
   "source": [
    "%who"
   ]
  },
  {
   "cell_type": "markdown",
   "metadata": {
    "slideshow": {
     "slide_type": "notes"
    }
   },
   "source": [
    "`%who` returns the list of all local and workspace operations available."
   ]
  },
  {
   "cell_type": "code",
   "execution_count": 19,
   "metadata": {
    "slideshow": {
     "slide_type": "slide"
    }
   },
   "outputs": [
    {
     "data": {
      "application/x-qsharp-data": "{\"Html\":\"<div id='execution-path-container-a5b46038-75f0-412a-9924-642425dae9de' />\"}",
      "text/html": [
       "<div id='execution-path-container-a5b46038-75f0-412a-9924-642425dae9de' />"
      ],
      "text/plain": [
       "Microsoft.Quantum.IQSharp.Jupyter.DisplayableHtmlElement"
      ]
     },
     "metadata": {},
     "output_type": "display_data"
    }
   ],
   "source": [
    "%trace QRBG2 n=4"
   ]
  },
  {
   "cell_type": "markdown",
   "metadata": {
    "slideshow": {
     "slide_type": "notes"
    }
   },
   "source": [
    "`%trace` trace simulates an operation and returns a visualization of the quantum circuit that got executed."
   ]
  },
  {
   "cell_type": "markdown",
   "metadata": {
    "slideshow": {
     "slide_type": "slide"
    }
   },
   "source": [
    "# Next\n",
    "\n",
    "[A quantum algorithm](./3.QuantumAlgorithm.ipynb)"
   ]
  }
 ],
 "metadata": {
  "kernelspec": {
   "display_name": "Q#",
   "language": "qsharp",
   "name": "iqsharp"
  },
  "language_info": {
   "file_extension": ".qs",
   "mimetype": "text/x-qsharp",
   "name": "qsharp",
   "version": "0.14"
  }
 },
 "nbformat": 4,
 "nbformat_minor": 2
}
