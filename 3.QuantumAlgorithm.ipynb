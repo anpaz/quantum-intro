{
 "cells": [
  {
   "cell_type": "markdown",
   "id": "7198b836",
   "metadata": {
    "slideshow": {
     "slide_type": "slide"
    }
   },
   "source": [
    "# A quantum algorithm"
   ]
  },
  {
   "cell_type": "markdown",
   "id": "76a8f18f",
   "metadata": {
    "slideshow": {
     "slide_type": "notes"
    }
   },
   "source": [
    "\n",
    "Bernstein-Vazirani is an example of a problem that a quantum algorithm can solve in significantly less number of steps than any classical solution.\n",
    "\n",
    "Not a practical problem, though, but easy to understand.\n",
    "\n"
   ]
  },
  {
   "cell_type": "markdown",
   "id": "21ea3953",
   "metadata": {
    "slideshow": {
     "slide_type": "slide"
    }
   },
   "source": [
    "Given:\n",
    "\n",
    "$$ f_h(x) = h \\cdot x \\mod 2 $$\n",
    "\n",
    "Where:\n",
    "\n",
    "  * $h$: is the hidden variable\n",
    "  * $x$: is the input variable\n",
    "  * $\\cdot$: is the *dot* product of $x$ and $h$, i.e. for register of size $n$:\n",
    "    $$ \\sum_i^n = h_i \\times x_i $$\n",
    "    \n",
    "Find $h$."
   ]
  },
  {
   "cell_type": "markdown",
   "id": "3861ae93",
   "metadata": {
    "slideshow": {
     "slide_type": "slide"
    }
   },
   "source": [
    "Suppose someone gives you an oracle `f` for a hidden number `h`. The oracle receives an integer `x` and returns:\n",
    "\n",
    "* **1**: if the number of bits in the input that match the bits of the hidden value is even.\n",
    "* **0**: if the number of bits in the input that match the bits of the hidden value is odd.\n",
    "\n",
    "\n",
    "The problem is to find the value of `h`.\n",
    "\n"
   ]
  },
  {
   "cell_type": "markdown",
   "id": "0eb4c6d7",
   "metadata": {
    "slideshow": {
     "slide_type": "slide"
    }
   },
   "source": [
    "As an example, this is the output of oracle the oracle for $n$=3, $h$=6 (`[110]`) and all possible $x$:\n",
    "\n",
    "$$\n",
    "\\begin{array}{|c|c|c|}\n",
    "x & x_b (bits) & f_h(x) \\\\ \n",
    "\\hline \n",
    "0 & 000 & 0 \\\\\n",
    "1 & 001 & 0 \\\\\n",
    "2 & 010 & 1 \\\\\n",
    "3 & 011 & 1 \\\\\n",
    "4 & 100 & 1 \\\\\n",
    "5 & 101 & 1 \\\\\n",
    "6 & 110 & 0 \\\\\n",
    "7 & 111 & 0 \\\\\n",
    "\\end{array}\n",
    "$$\n",
    "\n",
    "\n"
   ]
  },
  {
   "cell_type": "markdown",
   "id": "86a67a2a",
   "metadata": {
    "slideshow": {
     "slide_type": "slide"
    }
   },
   "source": [
    "\n",
    "For registers of size $n$, **the best classical solution requires the code to call the oracle $n$ times** to find the hidden value $h$. It goes by this:\n",
    "\n",
    "```\n",
    "for i in 0 .. n-1\n",
    "   Call the oracle with the number x that only has the i-th bit on\n",
    "   if the oracle returns 1, the i-th bit of h is 1, otherwise it is 0\n",
    "\n",
    "```\n",
    "\n",
    "For example, if `h=6 [110]` and `n=3`:\n",
    "\n",
    "```\n",
    "h_0 = f(001) // returns 0\n",
    "h_1 = f(010) // returns 1\n",
    "h_2 = f(100) // returns 1\n",
    "\n",
    "h = [110]     // as expected\n",
    "```\n",
    "\n"
   ]
  },
  {
   "cell_type": "markdown",
   "id": "257d1f2d",
   "metadata": {
    "slideshow": {
     "slide_type": "notes"
    }
   },
   "source": [
    "In Q#, you can implement a function that creates this classical oracle with this code: "
   ]
  },
  {
   "cell_type": "code",
   "execution_count": 1,
   "id": "f8833633",
   "metadata": {
    "slideshow": {
     "slide_type": "slide"
    }
   },
   "outputs": [
    {
     "data": {
      "application/x-qsharp-data": "[\"ClassicOracle\",\"CreateClassicOracle\"]",
      "text/html": [
       "<ul><li>ClassicOracle</li><li>CreateClassicOracle</li></ul>"
      ],
      "text/plain": [
       "ClassicOracle, CreateClassicOracle"
      ]
     },
     "execution_count": 1,
     "metadata": {},
     "output_type": "execute_result"
    }
   ],
   "source": [
    "// Required for IntAsBoolArray\n",
    "open Microsoft.Quantum.Convert;\n",
    "\n",
    "// Implements the classical oracle for the hidden input variable\n",
    "function ClassicOracle(n: Int, hidden: Int, x: Int) : Bool {\n",
    "    // Get the bits of the int as an array:\n",
    "    let h_bits = IntAsBoolArray(hidden, n);\n",
    "    let x_bits = IntAsBoolArray(x, n);\n",
    "\n",
    "    mutable result = 0;\n",
    "\n",
    "    // Implement the dot product of the bits:\n",
    "    for i in 0 .. n-1 {\n",
    "        if (h_bits[i] and x_bits[i]) {\n",
    "            set result += 1;\n",
    "        }\n",
    "    }\n",
    "\n",
    "    // Print a message on the console to report the oracle was called.\n",
    "    Message($\"Oracle C (h:{hidden}, x:{x}) - {result}.\");\n",
    "\n",
    "    // Return the mod 2 of the result:\n",
    "    return (result % 2) == 1;\n",
    "}\n",
    "\n",
    "function CreateClassicOracle(n: Int, h: Int) : (Int) -> Bool {\n",
    "    return ClassicOracle(n, h, _);\n",
    "}\n"
   ]
  },
  {
   "cell_type": "markdown",
   "id": "0d19bac1",
   "metadata": {
    "slideshow": {
     "slide_type": "slide"
    }
   },
   "source": [
    "To test the classic oracle, we can use the following function that create the oracle for any given `h`, and prints its output for each possible input:\n"
   ]
  },
  {
   "cell_type": "code",
   "execution_count": 2,
   "id": "d8905b7f",
   "metadata": {
    "slideshow": {
     "slide_type": "-"
    }
   },
   "outputs": [
    {
     "data": {
      "application/x-qsharp-data": "[\"TestClassicOracle\"]",
      "text/html": [
       "<ul><li>TestClassicOracle</li></ul>"
      ],
      "text/plain": [
       "TestClassicOracle"
      ]
     },
     "execution_count": 2,
     "metadata": {},
     "output_type": "execute_result"
    }
   ],
   "source": [
    "function TestClassicOracle(h: Int) : Unit {\n",
    "    let n = 3; // number of bits\n",
    "    let N = 1 <<< n; // 2^n: total number of integers\n",
    "    \n",
    "    // Create an oracle for the given hidden variable:\n",
    "    let oracle = CreateClassicOracle(n, h);\n",
    "    \n",
    "    // Call the oracle for every possible value of X to see the values.\n",
    "    for x in 0 .. N-1{\n",
    "        Message($\"{x}: {oracle(x)}\");\n",
    "    }    \n",
    "}"
   ]
  },
  {
   "cell_type": "code",
   "execution_count": 3,
   "id": "f4c7e2cf",
   "metadata": {
    "slideshow": {
     "slide_type": "slide"
    }
   },
   "outputs": [
    {
     "name": "stdout",
     "output_type": "stream",
     "text": [
      "Oracle C (h:6, x:0) - 0.\n",
      "0: False\n",
      "Oracle C (h:6, x:1) - 0.\n",
      "1: False\n",
      "Oracle C (h:6, x:2) - 1.\n",
      "2: True\n",
      "Oracle C (h:6, x:3) - 1.\n",
      "3: True\n",
      "Oracle C (h:6, x:4) - 1.\n",
      "4: True\n",
      "Oracle C (h:6, x:5) - 1.\n",
      "5: True\n",
      "Oracle C (h:6, x:6) - 2.\n",
      "6: False\n",
      "Oracle C (h:6, x:7) - 2.\n",
      "7: False\n"
     ]
    },
    {
     "data": {
      "application/x-qsharp-data": "{\"@type\":\"tuple\"}",
      "text/plain": [
       "()"
      ]
     },
     "execution_count": 3,
     "metadata": {},
     "output_type": "execute_result"
    }
   ],
   "source": [
    "%simulate TestClassicOracle h=6"
   ]
  },
  {
   "cell_type": "markdown",
   "id": "034027e5",
   "metadata": {
    "slideshow": {
     "slide_type": "notes"
    }
   },
   "source": [
    "The actual classical algorithm follows:"
   ]
  },
  {
   "cell_type": "code",
   "execution_count": 4,
   "id": "11d991f2",
   "metadata": {
    "slideshow": {
     "slide_type": "slide"
    }
   },
   "outputs": [
    {
     "data": {
      "application/x-qsharp-data": "[\"ClassicalAlgorithm\",\"RunClassicalAlgorithm\"]",
      "text/html": [
       "<ul><li>ClassicalAlgorithm</li><li>RunClassicalAlgorithm</li></ul>"
      ],
      "text/plain": [
       "ClassicalAlgorithm, RunClassicalAlgorithm"
      ]
     },
     "execution_count": 4,
     "metadata": {},
     "output_type": "execute_result"
    }
   ],
   "source": [
    "function ClassicalAlgorithm(n: Int, oracle: (Int) -> Bool) : Int {\n",
    "    mutable result = [false, size=n];\n",
    "\n",
    "    for i in 0 .. n-1 {\n",
    "        if (oracle(1 <<< i)) {\n",
    "            set result w/= i <- true;\n",
    "        }\n",
    "    }\n",
    "\n",
    "    let r = BoolArrayAsInt(result);\n",
    "    Message($\"Classical Result: {r}\");\n",
    "\n",
    "    return r;\n",
    "}\n",
    "\n",
    "operation RunClassicalAlgorithm(n: Int, h: Int) : Int {\n",
    "    let oracle = CreateClassicOracle(n, h);\n",
    "    let r = ClassicalAlgorithm(n, oracle);\n",
    "    \n",
    "    return r;\n",
    "}"
   ]
  },
  {
   "cell_type": "markdown",
   "id": "cb6c94ec",
   "metadata": {
    "slideshow": {
     "slide_type": "slide"
    }
   },
   "source": [
    "A simple example of running the algorithm, it prints each time the oracle is called:"
   ]
  },
  {
   "cell_type": "code",
   "execution_count": 5,
   "id": "779bc9e7",
   "metadata": {
    "slideshow": {
     "slide_type": "-"
    }
   },
   "outputs": [
    {
     "name": "stdout",
     "output_type": "stream",
     "text": [
      "Oracle C (h:6, x:1) - 0.\n",
      "Oracle C (h:6, x:2) - 1.\n",
      "Oracle C (h:6, x:4) - 1.\n",
      "Classical Result: 6\n"
     ]
    },
    {
     "data": {
      "application/x-qsharp-data": "6",
      "text/plain": [
       "6"
      ]
     },
     "execution_count": 5,
     "metadata": {},
     "output_type": "execute_result"
    }
   ],
   "source": [
    "%simulate RunClassicalAlgorithm n=3 h=6"
   ]
  },
  {
   "cell_type": "markdown",
   "id": "3fbdee33",
   "metadata": {
    "slideshow": {
     "slide_type": "notes"
    }
   },
   "source": [
    "As expected, if we increase the  number of bits, the calls to the oracle increases accordingly:"
   ]
  },
  {
   "cell_type": "code",
   "execution_count": 6,
   "id": "e87bc449",
   "metadata": {
    "slideshow": {
     "slide_type": "slide"
    }
   },
   "outputs": [
    {
     "name": "stdout",
     "output_type": "stream",
     "text": [
      "Oracle C (h:432100, x:1) - 0.\n",
      "Oracle C (h:432100, x:2) - 0.\n",
      "Oracle C (h:432100, x:4) - 1.\n",
      "Oracle C (h:432100, x:8) - 0.\n",
      "Oracle C (h:432100, x:16) - 0.\n",
      "Oracle C (h:432100, x:32) - 1.\n",
      "Oracle C (h:432100, x:64) - 1.\n",
      "Oracle C (h:432100, x:128) - 1.\n",
      "Oracle C (h:432100, x:256) - 1.\n",
      "Oracle C (h:432100, x:512) - 1.\n",
      "Oracle C (h:432100, x:1024) - 1.\n",
      "Oracle C (h:432100, x:2048) - 0.\n",
      "Oracle C (h:432100, x:4096) - 1.\n",
      "Oracle C (h:432100, x:8192) - 0.\n",
      "Oracle C (h:432100, x:16384) - 0.\n",
      "Oracle C (h:432100, x:32768) - 1.\n",
      "Oracle C (h:432100, x:65536) - 0.\n",
      "Oracle C (h:432100, x:131072) - 1.\n",
      "Oracle C (h:432100, x:262144) - 1.\n",
      "Oracle C (h:432100, x:524288) - 0.\n",
      "Oracle C (h:432100, x:1048576) - 0.\n",
      "Oracle C (h:432100, x:2097152) - 0.\n",
      "Oracle C (h:432100, x:4194304) - 0.\n",
      "Oracle C (h:432100, x:8388608) - 0.\n",
      "Oracle C (h:432100, x:16777216) - 0.\n",
      "Oracle C (h:432100, x:33554432) - 0.\n",
      "Oracle C (h:432100, x:67108864) - 0.\n",
      "Oracle C (h:432100, x:134217728) - 0.\n",
      "Oracle C (h:432100, x:268435456) - 0.\n",
      "Oracle C (h:432100, x:536870912) - 0.\n",
      "Classical Result: 432100\n"
     ]
    },
    {
     "data": {
      "application/x-qsharp-data": "432100",
      "text/plain": [
       "432100"
      ]
     },
     "execution_count": 6,
     "metadata": {},
     "output_type": "execute_result"
    }
   ],
   "source": [
    "%simulate RunClassicalAlgorithm n=30 h=432100"
   ]
  },
  {
   "cell_type": "markdown",
   "id": "2409de28",
   "metadata": {
    "slideshow": {
     "slide_type": "slide"
    }
   },
   "source": [
    "\n",
    "As we just saw, the classical solution takes $n$ calls to the oracle to find the solution. The quantum version requires only **1** call to the oracle to find the hidden value!\n",
    "\n",
    "The quantum algorithm goes something like this:\n",
    "\n",
    "```\n",
    "   1. Prepare the state of the register to be in full super-position\n",
    "   2. Apply the oracle once, to the phase of the register\n",
    "   3. Undo the state preparation\n",
    "```\n"
   ]
  },
  {
   "cell_type": "markdown",
   "id": "4d0c7f4a",
   "metadata": {
    "slideshow": {
     "slide_type": "notes"
    }
   },
   "source": [
    "The keys are:\n",
    "1. by applying the oracle on a register prepared in a state of full super-position you can leverage quantum-parallelism to apply the oracle to all possible inputs.\n",
    "2. when the oracle is applied to the phase, it creates interference on the state of the register and undoing the state preparation leaves only the hidden bits on.\n",
    "\n",
    "The mathematical proof is out of scope for this workshop, but it is described [here](https://qiskit.org/textbook/ch-algorithms/bernstein-vazirani.html#1.3-The-Quantum-Solution--)"
   ]
  },
  {
   "cell_type": "markdown",
   "id": "3be5a367",
   "metadata": {
    "slideshow": {
     "slide_type": "notes"
    }
   },
   "source": [
    "The implementation of the quantum oracle in Q# is very similar to the classical oracle:"
   ]
  },
  {
   "cell_type": "code",
   "execution_count": 7,
   "id": "09922dc1",
   "metadata": {
    "slideshow": {
     "slide_type": "slide"
    }
   },
   "outputs": [
    {
     "data": {
      "application/x-qsharp-data": "[\"QuantumOracle\",\"CreateQuantumOracle\"]",
      "text/html": [
       "<ul><li>QuantumOracle</li><li>CreateQuantumOracle</li></ul>"
      ],
      "text/plain": [
       "QuantumOracle, CreateQuantumOracle"
      ]
     },
     "execution_count": 7,
     "metadata": {},
     "output_type": "execute_result"
    }
   ],
   "source": [
    "// A Quantum Oracle. The main difference is that the oracle receives a qubit register as input\n",
    "// and the result of the oracle is returned in another qubit, not the result of the operation.\n",
    "operation QuantumOracle(n: Int, h: Int, x: Qubit[], result: Qubit) : Unit \n",
    "is Adj {\n",
    "    let bits = IntAsBoolArray(h, n);\n",
    "\n",
    "    for i in 0 .. n-1 {\n",
    "        // Apply a controlled X, i.e. a conditional quantum application\n",
    "        // only on the bits that are on the hidden variable.\n",
    "        if (bits[i]) {\n",
    "            Controlled X([x[i]], result);\n",
    "        }\n",
    "    }\n",
    "\n",
    "    Message(\"Oracle Q\");\n",
    "}\n",
    "\n",
    "function CreateQuantumOracle(n: Int, value: Int) : (Qubit[], Qubit) => Unit {\n",
    "    return QuantumOracle(n, value, _, _);\n",
    "}\n"
   ]
  },
  {
   "cell_type": "markdown",
   "id": "52dd7c17",
   "metadata": {
    "slideshow": {
     "slide_type": "slide"
    }
   },
   "source": [
    "As with the classical case, we can write a simple test function that reports the return value of the oracle for each possible input.\n",
    "\n",
    "Notice the input needs to be encoded in a quantum register, the output is also encoded as the value of a single qubit:"
   ]
  },
  {
   "cell_type": "code",
   "execution_count": 8,
   "id": "9a38e558",
   "metadata": {
    "slideshow": {
     "slide_type": "slide"
    }
   },
   "outputs": [
    {
     "data": {
      "application/x-qsharp-data": "[\"EncodeIntOnQuantumRegister\",\"TestQuanumOracle\"]",
      "text/html": [
       "<ul><li>EncodeIntOnQuantumRegister</li><li>TestQuanumOracle</li></ul>"
      ],
      "text/plain": [
       "EncodeIntOnQuantumRegister, TestQuanumOracle"
      ]
     },
     "execution_count": 8,
     "metadata": {},
     "output_type": "execute_result"
    }
   ],
   "source": [
    "// Helper function that encodes an integer in the state of a quantum register\n",
    "operation  EncodeIntOnQuantumRegister(value: Int, register: Qubit[]) : Unit \n",
    "is Adj {\n",
    "    let n = Length(register);\n",
    "    let bits = IntAsBoolArray(value, n);\n",
    "    \n",
    "    // Check every bit, flip the quantum bit that is on on the classical representation:\n",
    "    for i in 0 .. n-1 {\n",
    "        if (bits[i]) {\n",
    "            X(register[i]);\n",
    "        }\n",
    "    }\n",
    "}\n",
    "\n",
    "// A method to call the oracle with each possible input and report the oracle value\n",
    "operation TestQuanumOracle(h: Int) : Unit {\n",
    "    let n = 3; // number of bits\n",
    "    let N = 1 <<< n; // 2^n: total number of integers\n",
    "    \n",
    "    // Create a quantum oracle for the given hidden variable:\n",
    "    let oracle = CreateQuantumOracle(n, h);\n",
    "    \n",
    "    // Call the oracle for every possible value of X to see the values.\n",
    "    for i in 0 .. N-1{\n",
    "        use x = Qubit[3];\n",
    "        use y = Qubit();\n",
    "        \n",
    "        EncodeIntOnQuantumRegister(i, x);        \n",
    "        oracle(x, y);\n",
    "        let r = M(y);\n",
    "        Message($\"{i}: {r}\");\n",
    "        \n",
    "        Adjoint EncodeIntOnQuantumRegister(i, x);\n",
    "    }    \n",
    "}"
   ]
  },
  {
   "cell_type": "code",
   "execution_count": 9,
   "id": "0ba5ce8b",
   "metadata": {
    "slideshow": {
     "slide_type": "slide"
    }
   },
   "outputs": [
    {
     "name": "stdout",
     "output_type": "stream",
     "text": [
      "Oracle Q\n",
      "0: Zero\n",
      "Oracle Q\n",
      "1: Zero\n",
      "Oracle Q\n",
      "2: One\n",
      "Oracle Q\n",
      "3: One\n",
      "Oracle Q\n",
      "4: One\n",
      "Oracle Q\n",
      "5: One\n",
      "Oracle Q\n",
      "6: Zero\n",
      "Oracle Q\n",
      "7: Zero\n"
     ]
    },
    {
     "data": {
      "application/x-qsharp-data": "{\"@type\":\"tuple\"}",
      "text/plain": [
       "()"
      ]
     },
     "execution_count": 9,
     "metadata": {},
     "output_type": "execute_result"
    }
   ],
   "source": [
    "%simulate TestQuanumOracle h=6"
   ]
  },
  {
   "cell_type": "markdown",
   "id": "9016c59e",
   "metadata": {
    "slideshow": {
     "slide_type": "slide"
    }
   },
   "source": [
    "As expected, the output of the oracle matches the classical values.\n",
    "\n",
    "Now let's implement the quantum algorithm. We need a couple of helper functions to keep the main algorithm clean:"
   ]
  },
  {
   "cell_type": "code",
   "execution_count": 10,
   "id": "4126a45b",
   "metadata": {
    "slideshow": {
     "slide_type": "slide"
    }
   },
   "outputs": [
    {
     "data": {
      "application/x-qsharp-data": "[\"PrepareState\",\"PrintState\"]",
      "text/html": [
       "<ul><li>PrepareState</li><li>PrintState</li></ul>"
      ],
      "text/plain": [
       "PrepareState, PrintState"
      ]
     },
     "execution_count": 10,
     "metadata": {},
     "output_type": "execute_result"
    }
   ],
   "source": [
    "open Microsoft.Quantum.Diagnostics;\n",
    "\n",
    "// A helper operation that prepares the register and results in full superposition.\n",
    "operation PrepareState(register: Qubit[], result: Qubit) : Unit\n",
    "is Adj {\n",
    "    ApplyToEachA(H, register);\n",
    "    // The result needs to be in |->, so it affects the phase.\n",
    "    X(result);\n",
    "    H(result);\n",
    "}\n",
    "\n",
    "// A helper function that prints the state of the quantum register with the given message.\n",
    "function PrintState(debug: Bool, msg: String, register: Qubit[]) : Unit {\n",
    "    if debug {\n",
    "        Message(msg);\n",
    "        DumpRegister((), register);\n",
    "    }\n",
    "}\n"
   ]
  },
  {
   "cell_type": "code",
   "execution_count": 11,
   "id": "a01faf27",
   "metadata": {
    "slideshow": {
     "slide_type": "slide"
    }
   },
   "outputs": [
    {
     "data": {
      "application/x-qsharp-data": "[\"QuantumAlgorithm\"]",
      "text/html": [
       "<ul><li>QuantumAlgorithm</li></ul>"
      ],
      "text/plain": [
       "QuantumAlgorithm"
      ]
     },
     "execution_count": 11,
     "metadata": {},
     "output_type": "execute_result"
    }
   ],
   "source": [
    "open Microsoft.Quantum.Measurement;\n",
    "\n",
    "// The implementation of the quantum algorithm\n",
    "operation QuantumAlgorithm(n: Int, oracle: (Qubit[], Qubit) => Unit, debug: Bool) : Result[] {\n",
    "    use register = Qubit[n];\n",
    "    use result = Qubit();\n",
    "\n",
    "    // 1. Prepare state in super position:\n",
    "    PrepareState(register, result);\n",
    "    PrintState(debug, \"State prepared in full-superposition\", register);\n",
    "    \n",
    "    // 2. Apply the oracle **once**, notice the oracle affects the phase of the register.\n",
    "    oracle(register, result);\n",
    "    PrintState(debug, \"Apply the oracle\", register);\n",
    "    \n",
    "    // 3. Undo the state preparation by calling 'Adjoint'\n",
    "    Adjoint PrepareState(register, result);\n",
    "    PrintState(debug, \"Undo state preparation\", register);\n",
    "    \n",
    "    // Read the value from the register:\n",
    "    let r = MultiM(register);\n",
    "    if debug { Message($\"Quantum Result: {r}\"); }\n",
    "    \n",
    "    return r;\n",
    "}"
   ]
  },
  {
   "cell_type": "code",
   "execution_count": 18,
   "id": "b882da49",
   "metadata": {
    "slideshow": {
     "slide_type": "slide"
    }
   },
   "outputs": [
    {
     "data": {
      "application/x-qsharp-data": "[\"RunQuantumAlgorithm\"]",
      "text/html": [
       "<ul><li>RunQuantumAlgorithm</li></ul>"
      ],
      "text/plain": [
       "RunQuantumAlgorithm"
      ]
     },
     "execution_count": 18,
     "metadata": {},
     "output_type": "execute_result"
    }
   ],
   "source": [
    "// A simple driver that runs the quantum algorithm and returns its output:\n",
    "operation RunQuantumAlgorithm(n: Int, h: Int, debug:Bool) : Result[] {\n",
    "    let oracle = CreateQuantumOracle(n, h);\n",
    "    \n",
    "    let expected = IntAsBoolArray(h, n);\n",
    "    Message($\"h: {expected}\\n\");\n",
    "    \n",
    "    let actual = QuantumAlgorithm(n, oracle, debug);\n",
    "    \n",
    "    if debug {\n",
    "        Message($\"Expected: {expected}\");\n",
    "        Message($\"Actual: {actual}\");\n",
    "    }\n",
    "    \n",
    "    return actual;\n",
    "}"
   ]
  },
  {
   "cell_type": "markdown",
   "id": "2ff083d5",
   "metadata": {
    "slideshow": {
     "slide_type": "notes"
    }
   },
   "source": [
    "Run the quantum algorithm with `debug` turned on. We're printing the state of the register on every step. Notice how the state changes \n",
    "\n",
    "1. $|0\\rangle$\n",
    "2. full-superposition\n",
    "3. the bits reported by the oracle have a negative phase\n",
    "4. the state of the hidden input"
   ]
  },
  {
   "cell_type": "code",
   "execution_count": 19,
   "id": "1a1fc753",
   "metadata": {
    "scrolled": false,
    "slideshow": {
     "slide_type": "slide"
    }
   },
   "outputs": [
    {
     "name": "stdout",
     "output_type": "stream",
     "text": [
      "h: [False,True,True]\n",
      "\n",
      "State prepared in full-superposition\n"
     ]
    },
    {
     "data": {
      "application/x-qsharp-data": "{\"diagnostic_kind\":\"state-vector\",\"div_id\":\"dump-machine-div-2784f550-fa96-4221-a61a-f90609b07d96\",\"qubit_ids\":[0,1,2],\"n_qubits\":3,\"amplitudes\":[{\"Real\":0.3535533905932738,\"Imaginary\":0.0,\"Magnitude\":0.3535533905932738,\"Phase\":0.0},{\"Real\":0.3535533905932738,\"Imaginary\":0.0,\"Magnitude\":0.3535533905932738,\"Phase\":0.0},{\"Real\":0.3535533905932738,\"Imaginary\":0.0,\"Magnitude\":0.3535533905932738,\"Phase\":0.0},{\"Real\":0.3535533905932738,\"Imaginary\":0.0,\"Magnitude\":0.3535533905932738,\"Phase\":0.0},{\"Real\":0.3535533905932738,\"Imaginary\":0.0,\"Magnitude\":0.3535533905932738,\"Phase\":0.0},{\"Real\":0.3535533905932738,\"Imaginary\":0.0,\"Magnitude\":0.3535533905932738,\"Phase\":0.0},{\"Real\":0.3535533905932738,\"Imaginary\":0.0,\"Magnitude\":0.3535533905932738,\"Phase\":0.0},{\"Real\":0.3535533905932738,\"Imaginary\":0.0,\"Magnitude\":0.3535533905932738,\"Phase\":0.0}]}",
      "text/html": [
       "\r\n",
       "                    <table style=\"table-layout: fixed; width: 100%\">\r\n",
       "                        <thead>\r\n",
       "                            \r\n",
       "                        <tr>\r\n",
       "                            <th>Qubit IDs</th>\r\n",
       "                            <td span=\"3\">0, 1, 2</td>\r\n",
       "                        </tr>\r\n",
       "                    \r\n",
       "                            <tr>\r\n",
       "                                <th style=\"width: 20ch)\">Basis state (little endian)</th>\r\n",
       "                                <th style=\"width: 20ch\">Amplitude</th><th style=\"width: calc(100% - 26ch - 20ch)\">Meas. Pr.</th><th style=\"width: 6ch\">Phase</th>\r\n",
       "                            </tr>\r\n",
       "                        </thead>\r\n",
       "                        <tbody>\r\n",
       "                        \r\n",
       "                            <tr>\r\n",
       "                                <td>$\\left|0\\right\\rangle$</td>\r\n",
       "                                <td>$0.3536 + 0.0000 i$</td>\r\n",
       "                                \r\n",
       "                                <td>\r\n",
       "                                    <progress\r\n",
       "                                        max=\"100\"\r\n",
       "                                        value=\"12.500000000000004\"\r\n",
       "                                        style=\"width: 100%;\"\r\n",
       "                                    > \r\n",
       "                                    <td>\r\n",
       "                                    <p id=\"round-518644e4-4c40-44c5-ad25-4941d3ed16d7\"> \r\n",
       "                                    <script>\r\n",
       "                                    var num = 12.500000000000004;\r\n",
       "                                    num = num.toFixed(4);\r\n",
       "                                    var num_string = num + \"%\";\r\n",
       "                                     document.getElementById(\"round-518644e4-4c40-44c5-ad25-4941d3ed16d7\").innerHTML = num_string;\r\n",
       "                                    </script> </p>\r\n",
       "                                    </td>\r\n",
       "                                </td>\r\n",
       "                            \r\n",
       "                                \r\n",
       "                                <td style=\"transform: rotate(0deg);\r\n",
       "                   text-align: center;\">\r\n",
       "                                 ↑\r\n",
       "                                </td>\r\n",
       "                            \r\n",
       "                            </tr>\r\n",
       "                        \n",
       "\r\n",
       "                            <tr>\r\n",
       "                                <td>$\\left|1\\right\\rangle$</td>\r\n",
       "                                <td>$0.3536 + 0.0000 i$</td>\r\n",
       "                                \r\n",
       "                                <td>\r\n",
       "                                    <progress\r\n",
       "                                        max=\"100\"\r\n",
       "                                        value=\"12.500000000000004\"\r\n",
       "                                        style=\"width: 100%;\"\r\n",
       "                                    > \r\n",
       "                                    <td>\r\n",
       "                                    <p id=\"round-32163266-503a-4beb-8d6c-24287642fe30\"> \r\n",
       "                                    <script>\r\n",
       "                                    var num = 12.500000000000004;\r\n",
       "                                    num = num.toFixed(4);\r\n",
       "                                    var num_string = num + \"%\";\r\n",
       "                                     document.getElementById(\"round-32163266-503a-4beb-8d6c-24287642fe30\").innerHTML = num_string;\r\n",
       "                                    </script> </p>\r\n",
       "                                    </td>\r\n",
       "                                </td>\r\n",
       "                            \r\n",
       "                                \r\n",
       "                                <td style=\"transform: rotate(0deg);\r\n",
       "                   text-align: center;\">\r\n",
       "                                 ↑\r\n",
       "                                </td>\r\n",
       "                            \r\n",
       "                            </tr>\r\n",
       "                        \n",
       "\r\n",
       "                            <tr>\r\n",
       "                                <td>$\\left|2\\right\\rangle$</td>\r\n",
       "                                <td>$0.3536 + 0.0000 i$</td>\r\n",
       "                                \r\n",
       "                                <td>\r\n",
       "                                    <progress\r\n",
       "                                        max=\"100\"\r\n",
       "                                        value=\"12.500000000000004\"\r\n",
       "                                        style=\"width: 100%;\"\r\n",
       "                                    > \r\n",
       "                                    <td>\r\n",
       "                                    <p id=\"round-5f64b338-a83b-4569-a8ed-d58992b1c162\"> \r\n",
       "                                    <script>\r\n",
       "                                    var num = 12.500000000000004;\r\n",
       "                                    num = num.toFixed(4);\r\n",
       "                                    var num_string = num + \"%\";\r\n",
       "                                     document.getElementById(\"round-5f64b338-a83b-4569-a8ed-d58992b1c162\").innerHTML = num_string;\r\n",
       "                                    </script> </p>\r\n",
       "                                    </td>\r\n",
       "                                </td>\r\n",
       "                            \r\n",
       "                                \r\n",
       "                                <td style=\"transform: rotate(0deg);\r\n",
       "                   text-align: center;\">\r\n",
       "                                 ↑\r\n",
       "                                </td>\r\n",
       "                            \r\n",
       "                            </tr>\r\n",
       "                        \n",
       "\r\n",
       "                            <tr>\r\n",
       "                                <td>$\\left|3\\right\\rangle$</td>\r\n",
       "                                <td>$0.3536 + 0.0000 i$</td>\r\n",
       "                                \r\n",
       "                                <td>\r\n",
       "                                    <progress\r\n",
       "                                        max=\"100\"\r\n",
       "                                        value=\"12.500000000000004\"\r\n",
       "                                        style=\"width: 100%;\"\r\n",
       "                                    > \r\n",
       "                                    <td>\r\n",
       "                                    <p id=\"round-93cdc3d5-77f1-426b-a5f2-62390788be36\"> \r\n",
       "                                    <script>\r\n",
       "                                    var num = 12.500000000000004;\r\n",
       "                                    num = num.toFixed(4);\r\n",
       "                                    var num_string = num + \"%\";\r\n",
       "                                     document.getElementById(\"round-93cdc3d5-77f1-426b-a5f2-62390788be36\").innerHTML = num_string;\r\n",
       "                                    </script> </p>\r\n",
       "                                    </td>\r\n",
       "                                </td>\r\n",
       "                            \r\n",
       "                                \r\n",
       "                                <td style=\"transform: rotate(0deg);\r\n",
       "                   text-align: center;\">\r\n",
       "                                 ↑\r\n",
       "                                </td>\r\n",
       "                            \r\n",
       "                            </tr>\r\n",
       "                        \n",
       "\r\n",
       "                            <tr>\r\n",
       "                                <td>$\\left|4\\right\\rangle$</td>\r\n",
       "                                <td>$0.3536 + 0.0000 i$</td>\r\n",
       "                                \r\n",
       "                                <td>\r\n",
       "                                    <progress\r\n",
       "                                        max=\"100\"\r\n",
       "                                        value=\"12.500000000000004\"\r\n",
       "                                        style=\"width: 100%;\"\r\n",
       "                                    > \r\n",
       "                                    <td>\r\n",
       "                                    <p id=\"round-db027444-a020-44fa-80ef-27d1a449bef7\"> \r\n",
       "                                    <script>\r\n",
       "                                    var num = 12.500000000000004;\r\n",
       "                                    num = num.toFixed(4);\r\n",
       "                                    var num_string = num + \"%\";\r\n",
       "                                     document.getElementById(\"round-db027444-a020-44fa-80ef-27d1a449bef7\").innerHTML = num_string;\r\n",
       "                                    </script> </p>\r\n",
       "                                    </td>\r\n",
       "                                </td>\r\n",
       "                            \r\n",
       "                                \r\n",
       "                                <td style=\"transform: rotate(0deg);\r\n",
       "                   text-align: center;\">\r\n",
       "                                 ↑\r\n",
       "                                </td>\r\n",
       "                            \r\n",
       "                            </tr>\r\n",
       "                        \n",
       "\r\n",
       "                            <tr>\r\n",
       "                                <td>$\\left|5\\right\\rangle$</td>\r\n",
       "                                <td>$0.3536 + 0.0000 i$</td>\r\n",
       "                                \r\n",
       "                                <td>\r\n",
       "                                    <progress\r\n",
       "                                        max=\"100\"\r\n",
       "                                        value=\"12.500000000000004\"\r\n",
       "                                        style=\"width: 100%;\"\r\n",
       "                                    > \r\n",
       "                                    <td>\r\n",
       "                                    <p id=\"round-dbd012ab-13dc-4f8d-bd46-9e710194e370\"> \r\n",
       "                                    <script>\r\n",
       "                                    var num = 12.500000000000004;\r\n",
       "                                    num = num.toFixed(4);\r\n",
       "                                    var num_string = num + \"%\";\r\n",
       "                                     document.getElementById(\"round-dbd012ab-13dc-4f8d-bd46-9e710194e370\").innerHTML = num_string;\r\n",
       "                                    </script> </p>\r\n",
       "                                    </td>\r\n",
       "                                </td>\r\n",
       "                            \r\n",
       "                                \r\n",
       "                                <td style=\"transform: rotate(0deg);\r\n",
       "                   text-align: center;\">\r\n",
       "                                 ↑\r\n",
       "                                </td>\r\n",
       "                            \r\n",
       "                            </tr>\r\n",
       "                        \n",
       "\r\n",
       "                            <tr>\r\n",
       "                                <td>$\\left|6\\right\\rangle$</td>\r\n",
       "                                <td>$0.3536 + 0.0000 i$</td>\r\n",
       "                                \r\n",
       "                                <td>\r\n",
       "                                    <progress\r\n",
       "                                        max=\"100\"\r\n",
       "                                        value=\"12.500000000000004\"\r\n",
       "                                        style=\"width: 100%;\"\r\n",
       "                                    > \r\n",
       "                                    <td>\r\n",
       "                                    <p id=\"round-0fa724c8-dfb9-4f7b-a391-9691e8292ad6\"> \r\n",
       "                                    <script>\r\n",
       "                                    var num = 12.500000000000004;\r\n",
       "                                    num = num.toFixed(4);\r\n",
       "                                    var num_string = num + \"%\";\r\n",
       "                                     document.getElementById(\"round-0fa724c8-dfb9-4f7b-a391-9691e8292ad6\").innerHTML = num_string;\r\n",
       "                                    </script> </p>\r\n",
       "                                    </td>\r\n",
       "                                </td>\r\n",
       "                            \r\n",
       "                                \r\n",
       "                                <td style=\"transform: rotate(0deg);\r\n",
       "                   text-align: center;\">\r\n",
       "                                 ↑\r\n",
       "                                </td>\r\n",
       "                            \r\n",
       "                            </tr>\r\n",
       "                        \n",
       "\r\n",
       "                            <tr>\r\n",
       "                                <td>$\\left|7\\right\\rangle$</td>\r\n",
       "                                <td>$0.3536 + 0.0000 i$</td>\r\n",
       "                                \r\n",
       "                                <td>\r\n",
       "                                    <progress\r\n",
       "                                        max=\"100\"\r\n",
       "                                        value=\"12.500000000000004\"\r\n",
       "                                        style=\"width: 100%;\"\r\n",
       "                                    > \r\n",
       "                                    <td>\r\n",
       "                                    <p id=\"round-303986da-1bed-40f6-b929-38a69ae87fda\"> \r\n",
       "                                    <script>\r\n",
       "                                    var num = 12.500000000000004;\r\n",
       "                                    num = num.toFixed(4);\r\n",
       "                                    var num_string = num + \"%\";\r\n",
       "                                     document.getElementById(\"round-303986da-1bed-40f6-b929-38a69ae87fda\").innerHTML = num_string;\r\n",
       "                                    </script> </p>\r\n",
       "                                    </td>\r\n",
       "                                </td>\r\n",
       "                            \r\n",
       "                                \r\n",
       "                                <td style=\"transform: rotate(0deg);\r\n",
       "                   text-align: center;\">\r\n",
       "                                 ↑\r\n",
       "                                </td>\r\n",
       "                            \r\n",
       "                            </tr>\r\n",
       "                        \r\n",
       "                        </tbody>\r\n",
       "                    </table>"
      ],
      "text/plain": [
       "|0⟩\t0.3535533905932738 + 0𝑖\n",
       "|1⟩\t0.3535533905932738 + 0𝑖\n",
       "|2⟩\t0.3535533905932738 + 0𝑖\n",
       "|3⟩\t0.3535533905932738 + 0𝑖\n",
       "|4⟩\t0.3535533905932738 + 0𝑖\n",
       "|5⟩\t0.3535533905932738 + 0𝑖\n",
       "|6⟩\t0.3535533905932738 + 0𝑖\n",
       "|7⟩\t0.3535533905932738 + 0𝑖"
      ]
     },
     "metadata": {},
     "output_type": "display_data"
    },
    {
     "name": "stdout",
     "output_type": "stream",
     "text": [
      "Oracle Q\n",
      "Apply the oracle\n"
     ]
    },
    {
     "data": {
      "application/x-qsharp-data": "{\"diagnostic_kind\":\"state-vector\",\"div_id\":\"dump-machine-div-a0fc61ad-bc33-463d-8a91-3058e2542b19\",\"qubit_ids\":[0,1,2],\"n_qubits\":3,\"amplitudes\":[{\"Real\":0.3535533905932738,\"Imaginary\":0.0,\"Magnitude\":0.3535533905932738,\"Phase\":0.0},{\"Real\":0.3535533905932738,\"Imaginary\":0.0,\"Magnitude\":0.3535533905932738,\"Phase\":0.0},{\"Real\":-0.3535533905932738,\"Imaginary\":0.0,\"Magnitude\":0.3535533905932738,\"Phase\":3.141592653589793},{\"Real\":-0.3535533905932738,\"Imaginary\":0.0,\"Magnitude\":0.3535533905932738,\"Phase\":3.141592653589793},{\"Real\":-0.3535533905932738,\"Imaginary\":0.0,\"Magnitude\":0.3535533905932738,\"Phase\":3.141592653589793},{\"Real\":-0.3535533905932738,\"Imaginary\":0.0,\"Magnitude\":0.3535533905932738,\"Phase\":3.141592653589793},{\"Real\":0.3535533905932738,\"Imaginary\":0.0,\"Magnitude\":0.3535533905932738,\"Phase\":0.0},{\"Real\":0.3535533905932738,\"Imaginary\":0.0,\"Magnitude\":0.3535533905932738,\"Phase\":0.0}]}",
      "text/html": [
       "\r\n",
       "                    <table style=\"table-layout: fixed; width: 100%\">\r\n",
       "                        <thead>\r\n",
       "                            \r\n",
       "                        <tr>\r\n",
       "                            <th>Qubit IDs</th>\r\n",
       "                            <td span=\"3\">0, 1, 2</td>\r\n",
       "                        </tr>\r\n",
       "                    \r\n",
       "                            <tr>\r\n",
       "                                <th style=\"width: 20ch)\">Basis state (little endian)</th>\r\n",
       "                                <th style=\"width: 20ch\">Amplitude</th><th style=\"width: calc(100% - 26ch - 20ch)\">Meas. Pr.</th><th style=\"width: 6ch\">Phase</th>\r\n",
       "                            </tr>\r\n",
       "                        </thead>\r\n",
       "                        <tbody>\r\n",
       "                        \r\n",
       "                            <tr>\r\n",
       "                                <td>$\\left|0\\right\\rangle$</td>\r\n",
       "                                <td>$0.3536 + 0.0000 i$</td>\r\n",
       "                                \r\n",
       "                                <td>\r\n",
       "                                    <progress\r\n",
       "                                        max=\"100\"\r\n",
       "                                        value=\"12.500000000000004\"\r\n",
       "                                        style=\"width: 100%;\"\r\n",
       "                                    > \r\n",
       "                                    <td>\r\n",
       "                                    <p id=\"round-f3d276ad-eb7c-4c66-859f-c07303495ba3\"> \r\n",
       "                                    <script>\r\n",
       "                                    var num = 12.500000000000004;\r\n",
       "                                    num = num.toFixed(4);\r\n",
       "                                    var num_string = num + \"%\";\r\n",
       "                                     document.getElementById(\"round-f3d276ad-eb7c-4c66-859f-c07303495ba3\").innerHTML = num_string;\r\n",
       "                                    </script> </p>\r\n",
       "                                    </td>\r\n",
       "                                </td>\r\n",
       "                            \r\n",
       "                                \r\n",
       "                                <td style=\"transform: rotate(0deg);\r\n",
       "                   text-align: center;\">\r\n",
       "                                 ↑\r\n",
       "                                </td>\r\n",
       "                            \r\n",
       "                            </tr>\r\n",
       "                        \n",
       "\r\n",
       "                            <tr>\r\n",
       "                                <td>$\\left|1\\right\\rangle$</td>\r\n",
       "                                <td>$0.3536 + 0.0000 i$</td>\r\n",
       "                                \r\n",
       "                                <td>\r\n",
       "                                    <progress\r\n",
       "                                        max=\"100\"\r\n",
       "                                        value=\"12.500000000000004\"\r\n",
       "                                        style=\"width: 100%;\"\r\n",
       "                                    > \r\n",
       "                                    <td>\r\n",
       "                                    <p id=\"round-7c134e1f-040d-4eb1-8341-56530c368984\"> \r\n",
       "                                    <script>\r\n",
       "                                    var num = 12.500000000000004;\r\n",
       "                                    num = num.toFixed(4);\r\n",
       "                                    var num_string = num + \"%\";\r\n",
       "                                     document.getElementById(\"round-7c134e1f-040d-4eb1-8341-56530c368984\").innerHTML = num_string;\r\n",
       "                                    </script> </p>\r\n",
       "                                    </td>\r\n",
       "                                </td>\r\n",
       "                            \r\n",
       "                                \r\n",
       "                                <td style=\"transform: rotate(0deg);\r\n",
       "                   text-align: center;\">\r\n",
       "                                 ↑\r\n",
       "                                </td>\r\n",
       "                            \r\n",
       "                            </tr>\r\n",
       "                        \n",
       "\r\n",
       "                            <tr>\r\n",
       "                                <td>$\\left|2\\right\\rangle$</td>\r\n",
       "                                <td>$-0.3536 + 0.0000 i$</td>\r\n",
       "                                \r\n",
       "                                <td>\r\n",
       "                                    <progress\r\n",
       "                                        max=\"100\"\r\n",
       "                                        value=\"12.500000000000004\"\r\n",
       "                                        style=\"width: 100%;\"\r\n",
       "                                    > \r\n",
       "                                    <td>\r\n",
       "                                    <p id=\"round-d0082e46-2006-423d-9de4-09257a0c39a5\"> \r\n",
       "                                    <script>\r\n",
       "                                    var num = 12.500000000000004;\r\n",
       "                                    num = num.toFixed(4);\r\n",
       "                                    var num_string = num + \"%\";\r\n",
       "                                     document.getElementById(\"round-d0082e46-2006-423d-9de4-09257a0c39a5\").innerHTML = num_string;\r\n",
       "                                    </script> </p>\r\n",
       "                                    </td>\r\n",
       "                                </td>\r\n",
       "                            \r\n",
       "                                \r\n",
       "                                <td style=\"transform: rotate(180deg);\r\n",
       "                   text-align: center;\">\r\n",
       "                                 ↑\r\n",
       "                                </td>\r\n",
       "                            \r\n",
       "                            </tr>\r\n",
       "                        \n",
       "\r\n",
       "                            <tr>\r\n",
       "                                <td>$\\left|3\\right\\rangle$</td>\r\n",
       "                                <td>$-0.3536 + 0.0000 i$</td>\r\n",
       "                                \r\n",
       "                                <td>\r\n",
       "                                    <progress\r\n",
       "                                        max=\"100\"\r\n",
       "                                        value=\"12.500000000000004\"\r\n",
       "                                        style=\"width: 100%;\"\r\n",
       "                                    > \r\n",
       "                                    <td>\r\n",
       "                                    <p id=\"round-93d7e00a-5235-4606-ad98-44eea4728913\"> \r\n",
       "                                    <script>\r\n",
       "                                    var num = 12.500000000000004;\r\n",
       "                                    num = num.toFixed(4);\r\n",
       "                                    var num_string = num + \"%\";\r\n",
       "                                     document.getElementById(\"round-93d7e00a-5235-4606-ad98-44eea4728913\").innerHTML = num_string;\r\n",
       "                                    </script> </p>\r\n",
       "                                    </td>\r\n",
       "                                </td>\r\n",
       "                            \r\n",
       "                                \r\n",
       "                                <td style=\"transform: rotate(180deg);\r\n",
       "                   text-align: center;\">\r\n",
       "                                 ↑\r\n",
       "                                </td>\r\n",
       "                            \r\n",
       "                            </tr>\r\n",
       "                        \n",
       "\r\n",
       "                            <tr>\r\n",
       "                                <td>$\\left|4\\right\\rangle$</td>\r\n",
       "                                <td>$-0.3536 + 0.0000 i$</td>\r\n",
       "                                \r\n",
       "                                <td>\r\n",
       "                                    <progress\r\n",
       "                                        max=\"100\"\r\n",
       "                                        value=\"12.500000000000004\"\r\n",
       "                                        style=\"width: 100%;\"\r\n",
       "                                    > \r\n",
       "                                    <td>\r\n",
       "                                    <p id=\"round-7f8d6ac8-7e5f-4087-a5cd-617d525bbb0d\"> \r\n",
       "                                    <script>\r\n",
       "                                    var num = 12.500000000000004;\r\n",
       "                                    num = num.toFixed(4);\r\n",
       "                                    var num_string = num + \"%\";\r\n",
       "                                     document.getElementById(\"round-7f8d6ac8-7e5f-4087-a5cd-617d525bbb0d\").innerHTML = num_string;\r\n",
       "                                    </script> </p>\r\n",
       "                                    </td>\r\n",
       "                                </td>\r\n",
       "                            \r\n",
       "                                \r\n",
       "                                <td style=\"transform: rotate(180deg);\r\n",
       "                   text-align: center;\">\r\n",
       "                                 ↑\r\n",
       "                                </td>\r\n",
       "                            \r\n",
       "                            </tr>\r\n",
       "                        \n",
       "\r\n",
       "                            <tr>\r\n",
       "                                <td>$\\left|5\\right\\rangle$</td>\r\n",
       "                                <td>$-0.3536 + 0.0000 i$</td>\r\n",
       "                                \r\n",
       "                                <td>\r\n",
       "                                    <progress\r\n",
       "                                        max=\"100\"\r\n",
       "                                        value=\"12.500000000000004\"\r\n",
       "                                        style=\"width: 100%;\"\r\n",
       "                                    > \r\n",
       "                                    <td>\r\n",
       "                                    <p id=\"round-377fddc1-c3f8-4953-9200-fc2edd69fcfe\"> \r\n",
       "                                    <script>\r\n",
       "                                    var num = 12.500000000000004;\r\n",
       "                                    num = num.toFixed(4);\r\n",
       "                                    var num_string = num + \"%\";\r\n",
       "                                     document.getElementById(\"round-377fddc1-c3f8-4953-9200-fc2edd69fcfe\").innerHTML = num_string;\r\n",
       "                                    </script> </p>\r\n",
       "                                    </td>\r\n",
       "                                </td>\r\n",
       "                            \r\n",
       "                                \r\n",
       "                                <td style=\"transform: rotate(180deg);\r\n",
       "                   text-align: center;\">\r\n",
       "                                 ↑\r\n",
       "                                </td>\r\n",
       "                            \r\n",
       "                            </tr>\r\n",
       "                        \n",
       "\r\n",
       "                            <tr>\r\n",
       "                                <td>$\\left|6\\right\\rangle$</td>\r\n",
       "                                <td>$0.3536 + 0.0000 i$</td>\r\n",
       "                                \r\n",
       "                                <td>\r\n",
       "                                    <progress\r\n",
       "                                        max=\"100\"\r\n",
       "                                        value=\"12.500000000000004\"\r\n",
       "                                        style=\"width: 100%;\"\r\n",
       "                                    > \r\n",
       "                                    <td>\r\n",
       "                                    <p id=\"round-7be0cc8c-2054-4f1e-83d7-6756a60255c6\"> \r\n",
       "                                    <script>\r\n",
       "                                    var num = 12.500000000000004;\r\n",
       "                                    num = num.toFixed(4);\r\n",
       "                                    var num_string = num + \"%\";\r\n",
       "                                     document.getElementById(\"round-7be0cc8c-2054-4f1e-83d7-6756a60255c6\").innerHTML = num_string;\r\n",
       "                                    </script> </p>\r\n",
       "                                    </td>\r\n",
       "                                </td>\r\n",
       "                            \r\n",
       "                                \r\n",
       "                                <td style=\"transform: rotate(0deg);\r\n",
       "                   text-align: center;\">\r\n",
       "                                 ↑\r\n",
       "                                </td>\r\n",
       "                            \r\n",
       "                            </tr>\r\n",
       "                        \n",
       "\r\n",
       "                            <tr>\r\n",
       "                                <td>$\\left|7\\right\\rangle$</td>\r\n",
       "                                <td>$0.3536 + 0.0000 i$</td>\r\n",
       "                                \r\n",
       "                                <td>\r\n",
       "                                    <progress\r\n",
       "                                        max=\"100\"\r\n",
       "                                        value=\"12.500000000000004\"\r\n",
       "                                        style=\"width: 100%;\"\r\n",
       "                                    > \r\n",
       "                                    <td>\r\n",
       "                                    <p id=\"round-9c2f72e0-f082-4569-8467-ae2d179f2a4c\"> \r\n",
       "                                    <script>\r\n",
       "                                    var num = 12.500000000000004;\r\n",
       "                                    num = num.toFixed(4);\r\n",
       "                                    var num_string = num + \"%\";\r\n",
       "                                     document.getElementById(\"round-9c2f72e0-f082-4569-8467-ae2d179f2a4c\").innerHTML = num_string;\r\n",
       "                                    </script> </p>\r\n",
       "                                    </td>\r\n",
       "                                </td>\r\n",
       "                            \r\n",
       "                                \r\n",
       "                                <td style=\"transform: rotate(0deg);\r\n",
       "                   text-align: center;\">\r\n",
       "                                 ↑\r\n",
       "                                </td>\r\n",
       "                            \r\n",
       "                            </tr>\r\n",
       "                        \r\n",
       "                        </tbody>\r\n",
       "                    </table>"
      ],
      "text/plain": [
       "|0⟩\t0.3535533905932738 + 0𝑖\n",
       "|1⟩\t0.3535533905932738 + 0𝑖\n",
       "|2⟩\t-0.3535533905932738 + 0𝑖\n",
       "|3⟩\t-0.3535533905932738 + 0𝑖\n",
       "|4⟩\t-0.3535533905932738 + 0𝑖\n",
       "|5⟩\t-0.3535533905932738 + 0𝑖\n",
       "|6⟩\t0.3535533905932738 + 0𝑖\n",
       "|7⟩\t0.3535533905932738 + 0𝑖"
      ]
     },
     "metadata": {},
     "output_type": "display_data"
    },
    {
     "name": "stdout",
     "output_type": "stream",
     "text": [
      "Undo state preparation\r\n"
     ]
    },
    {
     "data": {
      "application/x-qsharp-data": "{\"diagnostic_kind\":\"state-vector\",\"div_id\":\"dump-machine-div-032574f2-9abe-493b-90f4-58e1eef5b413\",\"qubit_ids\":[0,1,2],\"n_qubits\":3,\"amplitudes\":[{\"Real\":0.0,\"Imaginary\":0.0,\"Magnitude\":0.0,\"Phase\":0.0},{\"Real\":0.0,\"Imaginary\":0.0,\"Magnitude\":0.0,\"Phase\":0.0},{\"Real\":-2.4651903288156602E-32,\"Imaginary\":0.0,\"Magnitude\":2.4651903288156602E-32,\"Phase\":3.141592653589793},{\"Real\":0.0,\"Imaginary\":0.0,\"Magnitude\":0.0,\"Phase\":0.0},{\"Real\":-3.6977854932234896E-32,\"Imaginary\":0.0,\"Magnitude\":3.6977854932234896E-32,\"Phase\":3.141592653589793},{\"Real\":3.6977854932234896E-32,\"Imaginary\":0.0,\"Magnitude\":3.6977854932234896E-32,\"Phase\":0.0},{\"Real\":1.0,\"Imaginary\":0.0,\"Magnitude\":1.0,\"Phase\":0.0},{\"Real\":-3.6977854932234896E-32,\"Imaginary\":0.0,\"Magnitude\":3.6977854932234896E-32,\"Phase\":3.141592653589793}]}",
      "text/html": [
       "\r\n",
       "                    <table style=\"table-layout: fixed; width: 100%\">\r\n",
       "                        <thead>\r\n",
       "                            \r\n",
       "                        <tr>\r\n",
       "                            <th>Qubit IDs</th>\r\n",
       "                            <td span=\"3\">0, 1, 2</td>\r\n",
       "                        </tr>\r\n",
       "                    \r\n",
       "                            <tr>\r\n",
       "                                <th style=\"width: 20ch)\">Basis state (little endian)</th>\r\n",
       "                                <th style=\"width: 20ch\">Amplitude</th><th style=\"width: calc(100% - 26ch - 20ch)\">Meas. Pr.</th><th style=\"width: 6ch\">Phase</th>\r\n",
       "                            </tr>\r\n",
       "                        </thead>\r\n",
       "                        <tbody>\r\n",
       "                        \r\n",
       "                            <tr>\r\n",
       "                                <td>$\\left|0\\right\\rangle$</td>\r\n",
       "                                <td>$0.0000 + 0.0000 i$</td>\r\n",
       "                                \r\n",
       "                                <td>\r\n",
       "                                    <progress\r\n",
       "                                        max=\"100\"\r\n",
       "                                        value=\"0\"\r\n",
       "                                        style=\"width: 100%;\"\r\n",
       "                                    > \r\n",
       "                                    <td>\r\n",
       "                                    <p id=\"round-82309a1d-24e5-47f9-b037-fdad8aca1bbc\"> \r\n",
       "                                    <script>\r\n",
       "                                    var num = 0;\r\n",
       "                                    num = num.toFixed(4);\r\n",
       "                                    var num_string = num + \"%\";\r\n",
       "                                     document.getElementById(\"round-82309a1d-24e5-47f9-b037-fdad8aca1bbc\").innerHTML = num_string;\r\n",
       "                                    </script> </p>\r\n",
       "                                    </td>\r\n",
       "                                </td>\r\n",
       "                            \r\n",
       "                                \r\n",
       "                                <td style=\"transform: rotate(0deg);\r\n",
       "                   text-align: center;\">\r\n",
       "                                 ↑\r\n",
       "                                </td>\r\n",
       "                            \r\n",
       "                            </tr>\r\n",
       "                        \n",
       "\r\n",
       "                            <tr>\r\n",
       "                                <td>$\\left|1\\right\\rangle$</td>\r\n",
       "                                <td>$0.0000 + 0.0000 i$</td>\r\n",
       "                                \r\n",
       "                                <td>\r\n",
       "                                    <progress\r\n",
       "                                        max=\"100\"\r\n",
       "                                        value=\"0\"\r\n",
       "                                        style=\"width: 100%;\"\r\n",
       "                                    > \r\n",
       "                                    <td>\r\n",
       "                                    <p id=\"round-f8d63843-a6df-4f97-ab41-488a02629b60\"> \r\n",
       "                                    <script>\r\n",
       "                                    var num = 0;\r\n",
       "                                    num = num.toFixed(4);\r\n",
       "                                    var num_string = num + \"%\";\r\n",
       "                                     document.getElementById(\"round-f8d63843-a6df-4f97-ab41-488a02629b60\").innerHTML = num_string;\r\n",
       "                                    </script> </p>\r\n",
       "                                    </td>\r\n",
       "                                </td>\r\n",
       "                            \r\n",
       "                                \r\n",
       "                                <td style=\"transform: rotate(0deg);\r\n",
       "                   text-align: center;\">\r\n",
       "                                 ↑\r\n",
       "                                </td>\r\n",
       "                            \r\n",
       "                            </tr>\r\n",
       "                        \n",
       "\r\n",
       "                            <tr>\r\n",
       "                                <td>$\\left|2\\right\\rangle$</td>\r\n",
       "                                <td>$-0.0000 + 0.0000 i$</td>\r\n",
       "                                \r\n",
       "                                <td>\r\n",
       "                                    <progress\r\n",
       "                                        max=\"100\"\r\n",
       "                                        value=\"6.077163357286263E-62\"\r\n",
       "                                        style=\"width: 100%;\"\r\n",
       "                                    > \r\n",
       "                                    <td>\r\n",
       "                                    <p id=\"round-5dcf37bc-06e2-4fed-bb85-6d82ca159584\"> \r\n",
       "                                    <script>\r\n",
       "                                    var num = 6.077163357286263E-62;\r\n",
       "                                    num = num.toFixed(4);\r\n",
       "                                    var num_string = num + \"%\";\r\n",
       "                                     document.getElementById(\"round-5dcf37bc-06e2-4fed-bb85-6d82ca159584\").innerHTML = num_string;\r\n",
       "                                    </script> </p>\r\n",
       "                                    </td>\r\n",
       "                                </td>\r\n",
       "                            \r\n",
       "                                \r\n",
       "                                <td style=\"transform: rotate(180deg);\r\n",
       "                   text-align: center;\">\r\n",
       "                                 ↑\r\n",
       "                                </td>\r\n",
       "                            \r\n",
       "                            </tr>\r\n",
       "                        \n",
       "\r\n",
       "                            <tr>\r\n",
       "                                <td>$\\left|3\\right\\rangle$</td>\r\n",
       "                                <td>$0.0000 + 0.0000 i$</td>\r\n",
       "                                \r\n",
       "                                <td>\r\n",
       "                                    <progress\r\n",
       "                                        max=\"100\"\r\n",
       "                                        value=\"0\"\r\n",
       "                                        style=\"width: 100%;\"\r\n",
       "                                    > \r\n",
       "                                    <td>\r\n",
       "                                    <p id=\"round-5a5586ea-584b-485e-a1e3-d0419ce99a67\"> \r\n",
       "                                    <script>\r\n",
       "                                    var num = 0;\r\n",
       "                                    num = num.toFixed(4);\r\n",
       "                                    var num_string = num + \"%\";\r\n",
       "                                     document.getElementById(\"round-5a5586ea-584b-485e-a1e3-d0419ce99a67\").innerHTML = num_string;\r\n",
       "                                    </script> </p>\r\n",
       "                                    </td>\r\n",
       "                                </td>\r\n",
       "                            \r\n",
       "                                \r\n",
       "                                <td style=\"transform: rotate(0deg);\r\n",
       "                   text-align: center;\">\r\n",
       "                                 ↑\r\n",
       "                                </td>\r\n",
       "                            \r\n",
       "                            </tr>\r\n",
       "                        \n",
       "\r\n",
       "                            <tr>\r\n",
       "                                <td>$\\left|4\\right\\rangle$</td>\r\n",
       "                                <td>$-0.0000 + 0.0000 i$</td>\r\n",
       "                                \r\n",
       "                                <td>\r\n",
       "                                    <progress\r\n",
       "                                        max=\"100\"\r\n",
       "                                        value=\"1.3673617553894086E-61\"\r\n",
       "                                        style=\"width: 100%;\"\r\n",
       "                                    > \r\n",
       "                                    <td>\r\n",
       "                                    <p id=\"round-2f418848-7d2b-4915-b66e-ff88ef35fb40\"> \r\n",
       "                                    <script>\r\n",
       "                                    var num = 1.3673617553894086E-61;\r\n",
       "                                    num = num.toFixed(4);\r\n",
       "                                    var num_string = num + \"%\";\r\n",
       "                                     document.getElementById(\"round-2f418848-7d2b-4915-b66e-ff88ef35fb40\").innerHTML = num_string;\r\n",
       "                                    </script> </p>\r\n",
       "                                    </td>\r\n",
       "                                </td>\r\n",
       "                            \r\n",
       "                                \r\n",
       "                                <td style=\"transform: rotate(180deg);\r\n",
       "                   text-align: center;\">\r\n",
       "                                 ↑\r\n",
       "                                </td>\r\n",
       "                            \r\n",
       "                            </tr>\r\n",
       "                        \n",
       "\r\n",
       "                            <tr>\r\n",
       "                                <td>$\\left|5\\right\\rangle$</td>\r\n",
       "                                <td>$0.0000 + 0.0000 i$</td>\r\n",
       "                                \r\n",
       "                                <td>\r\n",
       "                                    <progress\r\n",
       "                                        max=\"100\"\r\n",
       "                                        value=\"1.3673617553894086E-61\"\r\n",
       "                                        style=\"width: 100%;\"\r\n",
       "                                    > \r\n",
       "                                    <td>\r\n",
       "                                    <p id=\"round-45cd9ff3-ffbc-4ce5-a40a-fbaa76ff371d\"> \r\n",
       "                                    <script>\r\n",
       "                                    var num = 1.3673617553894086E-61;\r\n",
       "                                    num = num.toFixed(4);\r\n",
       "                                    var num_string = num + \"%\";\r\n",
       "                                     document.getElementById(\"round-45cd9ff3-ffbc-4ce5-a40a-fbaa76ff371d\").innerHTML = num_string;\r\n",
       "                                    </script> </p>\r\n",
       "                                    </td>\r\n",
       "                                </td>\r\n",
       "                            \r\n",
       "                                \r\n",
       "                                <td style=\"transform: rotate(0deg);\r\n",
       "                   text-align: center;\">\r\n",
       "                                 ↑\r\n",
       "                                </td>\r\n",
       "                            \r\n",
       "                            </tr>\r\n",
       "                        \n",
       "\r\n",
       "                            <tr>\r\n",
       "                                <td>$\\left|6\\right\\rangle$</td>\r\n",
       "                                <td>$1.0000 + 0.0000 i$</td>\r\n",
       "                                \r\n",
       "                                <td>\r\n",
       "                                    <progress\r\n",
       "                                        max=\"100\"\r\n",
       "                                        value=\"100\"\r\n",
       "                                        style=\"width: 100%;\"\r\n",
       "                                    > \r\n",
       "                                    <td>\r\n",
       "                                    <p id=\"round-30815cd5-0844-4bcf-b517-20d4e236d48b\"> \r\n",
       "                                    <script>\r\n",
       "                                    var num = 100;\r\n",
       "                                    num = num.toFixed(4);\r\n",
       "                                    var num_string = num + \"%\";\r\n",
       "                                     document.getElementById(\"round-30815cd5-0844-4bcf-b517-20d4e236d48b\").innerHTML = num_string;\r\n",
       "                                    </script> </p>\r\n",
       "                                    </td>\r\n",
       "                                </td>\r\n",
       "                            \r\n",
       "                                \r\n",
       "                                <td style=\"transform: rotate(0deg);\r\n",
       "                   text-align: center;\">\r\n",
       "                                 ↑\r\n",
       "                                </td>\r\n",
       "                            \r\n",
       "                            </tr>\r\n",
       "                        \n",
       "\r\n",
       "                            <tr>\r\n",
       "                                <td>$\\left|7\\right\\rangle$</td>\r\n",
       "                                <td>$-0.0000 + 0.0000 i$</td>\r\n",
       "                                \r\n",
       "                                <td>\r\n",
       "                                    <progress\r\n",
       "                                        max=\"100\"\r\n",
       "                                        value=\"1.3673617553894086E-61\"\r\n",
       "                                        style=\"width: 100%;\"\r\n",
       "                                    > \r\n",
       "                                    <td>\r\n",
       "                                    <p id=\"round-175245e7-6b77-4b00-8a11-9845fb91d7e1\"> \r\n",
       "                                    <script>\r\n",
       "                                    var num = 1.3673617553894086E-61;\r\n",
       "                                    num = num.toFixed(4);\r\n",
       "                                    var num_string = num + \"%\";\r\n",
       "                                     document.getElementById(\"round-175245e7-6b77-4b00-8a11-9845fb91d7e1\").innerHTML = num_string;\r\n",
       "                                    </script> </p>\r\n",
       "                                    </td>\r\n",
       "                                </td>\r\n",
       "                            \r\n",
       "                                \r\n",
       "                                <td style=\"transform: rotate(180deg);\r\n",
       "                   text-align: center;\">\r\n",
       "                                 ↑\r\n",
       "                                </td>\r\n",
       "                            \r\n",
       "                            </tr>\r\n",
       "                        \r\n",
       "                        </tbody>\r\n",
       "                    </table>"
      ],
      "text/plain": [
       "|0⟩\t0 + 0𝑖\n",
       "|1⟩\t0 + 0𝑖\n",
       "|2⟩\t-2.4651903288156602E-32 + 0𝑖\n",
       "|3⟩\t0 + 0𝑖\n",
       "|4⟩\t-3.6977854932234896E-32 + 0𝑖\n",
       "|5⟩\t3.6977854932234896E-32 + 0𝑖\n",
       "|6⟩\t1 + 0𝑖\n",
       "|7⟩\t-3.6977854932234896E-32 + 0𝑖"
      ]
     },
     "metadata": {},
     "output_type": "display_data"
    },
    {
     "name": "stdout",
     "output_type": "stream",
     "text": [
      "Quantum Result: [Zero,One,One]\n",
      "Expected: [False,True,True]\n",
      "Actual: [Zero,One,One]\n"
     ]
    },
    {
     "data": {
      "application/x-qsharp-data": "[0,1,1]",
      "text/html": [
       "<ul><li>Zero</li><li>One</li><li>One</li></ul>"
      ],
      "text/plain": [
       "Zero, One, One"
      ]
     },
     "execution_count": 19,
     "metadata": {},
     "output_type": "execute_result"
    }
   ],
   "source": [
    "%simulate RunQuantumAlgorithm n=3 h=6 debug=true"
   ]
  },
  {
   "cell_type": "markdown",
   "id": "bdb2291e",
   "metadata": {
    "slideshow": {
     "slide_type": "slide"
    }
   },
   "source": [
    "Finally, run the algorithm with debug turned off to clearly see how many times the oracle is called. It is called only once regardless of the size of `n`."
   ]
  },
  {
   "cell_type": "code",
   "execution_count": 29,
   "id": "954cc580",
   "metadata": {
    "slideshow": {
     "slide_type": "slide"
    }
   },
   "outputs": [
    {
     "name": "stdout",
     "output_type": "stream",
     "text": [
      "h: [True,False,True,True,False,True,True,True,False,False,True,True,True,False,True]\n",
      "\n",
      "Oracle Q\n"
     ]
    },
    {
     "data": {
      "application/x-qsharp-data": "[1,0,1,1,0,1,1,1,0,0,1,1,1,0,1]",
      "text/html": [
       "<ul><li>One</li><li>Zero</li><li>One</li><li>One</li><li>Zero</li><li>One</li><li>One</li><li>One</li><li>Zero</li><li>Zero</li><li>One</li><li>One</li><li>One</li><li>Zero</li><li>One</li></ul>"
      ],
      "text/plain": [
       "One, Zero, One, One, Zero, One, One, One, Zero, Zero, One, One, One, Zero, One"
      ]
     },
     "execution_count": 29,
     "metadata": {},
     "output_type": "execute_result"
    }
   ],
   "source": [
    "%simulate RunQuantumAlgorithm n=15 h=23789 debug=false"
   ]
  },
  {
   "cell_type": "markdown",
   "id": "5d8b4e1c",
   "metadata": {
    "slideshow": {
     "slide_type": "notes"
    }
   },
   "source": [
    "### Running on the cloud\n",
    "\n",
    "As any other Q# program, it is easy to run this exact program on the cloud.\n",
    "\n",
    "**To get started type `%azure.connect` on the cell below to insert the `%azure.connect` snippet.**\n",
    "\n",
    "If you are running on a local instance of Jupyter Notebooks, you'll also need to manually type the workspace id and the location. These values can be found in the Overview section of the Workspace in the Azure Portal. See [%azure.connect](https://docs.microsoft.com/en-us/qsharp/api/iqsharp-magic/azure.connect#examples-for-azureconnect) for details and examples."
   ]
  },
  {
   "cell_type": "code",
   "execution_count": 30,
   "id": "e2d17f82",
   "metadata": {
    "slideshow": {
     "slide_type": "slide"
    }
   },
   "outputs": [
    {
     "name": "stdout",
     "output_type": "stream",
     "text": [
      "Authenticated using Azure.Identity.AzureCliCredential\n",
      "\n",
      "\n",
      "Connected to Azure Quantum workspace demo-sim in location westus2.\n"
     ]
    },
    {
     "data": {
      "application/x-qsharp-data": "[{\"id\":\"ionq.qpu\",\"current_availability\":{},\"average_queue_time\":69},{\"id\":\"ionq.simulator\",\"current_availability\":{},\"average_queue_time\":3}]",
      "text/html": [
       "<table><thead><tr><th style=\"text-align: start;\">Target ID</th><th style=\"text-align: start;\">Current Availability</th><th style=\"text-align: start;\">Average Queue Time (Seconds)</th></tr></thead><tbody><tr><td style=\"text-align: start;\">ionq.qpu</td><td style=\"text-align: start;\">Available</td><td style=\"text-align: start;\">69</td></tr><tr><td style=\"text-align: start;\">ionq.simulator</td><td style=\"text-align: start;\">Available</td><td style=\"text-align: start;\">3</td></tr></tbody></table>"
      ],
      "text/plain": [
       "Target ID      Current Availability Average Queue Time (Seconds)\r\n",
       "-------------- --------- --\r\n",
       "ionq.qpu       Available 69\r\n",
       "ionq.simulator Available 3\r\n"
      ]
     },
     "execution_count": 30,
     "metadata": {},
     "output_type": "execute_result"
    }
   ],
   "source": []
  },
  {
   "cell_type": "markdown",
   "id": "761442dd",
   "metadata": {},
   "source": [
    "Test by running on the simulator first:"
   ]
  },
  {
   "cell_type": "code",
   "execution_count": 31,
   "id": "a00ac4f8",
   "metadata": {},
   "outputs": [
    {
     "name": "stdout",
     "output_type": "stream",
     "text": [
      "Loading package Microsoft.Quantum.Providers.IonQ and dependencies...\n",
      "Active target is now ionq.simulator\n"
     ]
    },
    {
     "data": {
      "application/x-qsharp-data": "{\"id\":\"ionq.simulator\",\"current_availability\":{},\"average_queue_time\":3}",
      "text/html": [
       "<table><thead><tr><th style=\"text-align: start;\">Target ID</th><th style=\"text-align: start;\">Current Availability</th><th style=\"text-align: start;\">Average Queue Time (Seconds)</th></tr></thead><tbody><tr><td style=\"text-align: start;\">ionq.simulator</td><td style=\"text-align: start;\">Available</td><td style=\"text-align: start;\">3</td></tr></tbody></table>"
      ],
      "text/plain": [
       "Target ID      Current Availability Average Queue Time (Seconds)\r\n",
       "-------------- --------- -\r\n",
       "ionq.simulator Available 3\r\n"
      ]
     },
     "execution_count": 31,
     "metadata": {},
     "output_type": "execute_result"
    }
   ],
   "source": [
    "%azure.target ionq.simulator"
   ]
  },
  {
   "cell_type": "code",
   "execution_count": 32,
   "id": "8f9545ee",
   "metadata": {
    "scrolled": true,
    "slideshow": {
     "slide_type": "slide"
    }
   },
   "outputs": [
    {
     "name": "stdout",
     "output_type": "stream",
     "text": [
      "Submitting RunQuantumAlgorithm to target ionq.simulator...\n",
      "Job successfully submitted for 500 shots.\n",
      "   Job name: RunQuantumAlgorithm\n",
      "   Job ID: 1872971b-0014-44a9-a7ad-b8b4cb108ace\n"
     ]
    },
    {
     "data": {
      "application/x-qsharp-data": "{\"id\":\"1872971b-0014-44a9-a7ad-b8b4cb108ace\",\"name\":\"RunQuantumAlgorithm\",\"status\":\"Executing\",\"uri\":\"https://portal.azure.com/#@microsoft.onmicrosoft.com/resource/subscriptions/916dfd6d-030c-4bd9-b579-7bb6d1926e97/resourceGroups/anpaz-demos/providers/Microsoft.Quantum/Workspaces/demo-sim/job_management?microsoft_azure_quantum_jobid=1872971b-0014-44a9-a7ad-b8b4cb108ace\",\"provider\":\"ionq\",\"target\":\"ionq.simulator\",\"creation_time\":\"2022-03-02T07:47:57.0329794+00:00\",\"begin_execution_time\":\"2022-03-02T07:47:59.184+00:00\",\"end_execution_time\":null}",
      "text/html": [
       "<table><thead><tr><th style=\"text-align: start;\">Job Name</th><th style=\"text-align: start;\">Job ID</th><th style=\"text-align: start;\">Job Status</th><th style=\"text-align: start;\">Target</th><th style=\"text-align: start;\">Creation Time</th><th style=\"text-align: start;\">Begin Execution Time</th><th style=\"text-align: start;\">End Execution Time</th></tr></thead><tbody><tr><td style=\"text-align: start;\">RunQuantumAlgorithm</td><td style=\"text-align: start;\"><a href=\"https://portal.azure.com/#@microsoft.onmicrosoft.com/resource/subscriptions/916dfd6d-030c-4bd9-b579-7bb6d1926e97/resourceGroups/anpaz-demos/providers/Microsoft.Quantum/Workspaces/demo-sim/job_management?microsoft_azure_quantum_jobid=1872971b-0014-44a9-a7ad-b8b4cb108ace\" target=\"_blank\">1872971b-0014-44a9-a7ad-b8b4cb108ace</a></td><td style=\"text-align: start;\">Executing</td><td style=\"text-align: start;\">ionq.simulator</td><td style=\"text-align: start;\">3/2/2022 7:47:57 AM +00:00</td><td style=\"text-align: start;\">3/2/2022 7:47:59 AM +00:00</td><td style=\"text-align: start;\"></td></tr></tbody></table>"
      ],
      "text/plain": [
       "Job Name            Job ID                                                                                                                                                                                                                                                                                                                                           Job Status Target         Creation Time              Begin Execution Time       End Execution Time\r\n",
       "------------------- ------------------------------------------------------------------------------------------------------------------------------------------------------------------------------------------------------------------------------------------------------------------------------------------------------------------------------------------------ --------- -------------- -------------------------- --------------------------\r\n",
       "RunQuantumAlgorithm <a href=\"https://portal.azure.com/#@microsoft.onmicrosoft.com/resource/subscriptions/916dfd6d-030c-4bd9-b579-7bb6d1926e97/resourceGroups/anpaz-demos/providers/Microsoft.Quantum/Workspaces/demo-sim/job_management?microsoft_azure_quantum_jobid=1872971b-0014-44a9-a7ad-b8b4cb108ace\" target=\"_blank\">1872971b-0014-44a9-a7ad-b8b4cb108ace</a> Executing ionq.simulator 3/2/2022 7:47:57 AM +00:00 3/2/2022 7:47:59 AM +00:00\r\n"
      ]
     },
     "execution_count": 32,
     "metadata": {},
     "output_type": "execute_result"
    }
   ],
   "source": [
    "%azure.submit RunQuantumAlgorithm  n=6 h=43 debug=false"
   ]
  },
  {
   "cell_type": "code",
   "execution_count": 33,
   "id": "f1e9a6dd",
   "metadata": {
    "scrolled": true
   },
   "outputs": [
    {
     "data": {
      "application/x-qsharp-data": "{\"id\":\"1872971b-0014-44a9-a7ad-b8b4cb108ace\",\"name\":\"RunQuantumAlgorithm\",\"status\":\"Succeeded\",\"uri\":\"https://portal.azure.com/#@microsoft.onmicrosoft.com/resource/subscriptions/916dfd6d-030c-4bd9-b579-7bb6d1926e97/resourceGroups/anpaz-demos/providers/Microsoft.Quantum/Workspaces/demo-sim/job_management?microsoft_azure_quantum_jobid=1872971b-0014-44a9-a7ad-b8b4cb108ace\",\"provider\":\"ionq\",\"target\":\"ionq.simulator\",\"creation_time\":\"2022-03-02T07:47:57.0329794+00:00\",\"begin_execution_time\":\"2022-03-02T07:48:00.408+00:00\",\"end_execution_time\":\"2022-03-02T07:48:00.887+00:00\"}",
      "text/html": [
       "<table><thead><tr><th style=\"text-align: start;\">Job Name</th><th style=\"text-align: start;\">Job ID</th><th style=\"text-align: start;\">Job Status</th><th style=\"text-align: start;\">Target</th><th style=\"text-align: start;\">Creation Time</th><th style=\"text-align: start;\">Begin Execution Time</th><th style=\"text-align: start;\">End Execution Time</th></tr></thead><tbody><tr><td style=\"text-align: start;\">RunQuantumAlgorithm</td><td style=\"text-align: start;\"><a href=\"https://portal.azure.com/#@microsoft.onmicrosoft.com/resource/subscriptions/916dfd6d-030c-4bd9-b579-7bb6d1926e97/resourceGroups/anpaz-demos/providers/Microsoft.Quantum/Workspaces/demo-sim/job_management?microsoft_azure_quantum_jobid=1872971b-0014-44a9-a7ad-b8b4cb108ace\" target=\"_blank\">1872971b-0014-44a9-a7ad-b8b4cb108ace</a></td><td style=\"text-align: start;\">Succeeded</td><td style=\"text-align: start;\">ionq.simulator</td><td style=\"text-align: start;\">3/2/2022 7:47:57 AM +00:00</td><td style=\"text-align: start;\">3/2/2022 7:48:00 AM +00:00</td><td style=\"text-align: start;\">3/2/2022 7:48:00 AM +00:00</td></tr></tbody></table>"
      ],
      "text/plain": [
       "Job Name            Job ID                                                                                                                                                                                                                                                                                                                                           Job Status Target         Creation Time              Begin Execution Time       End Execution Time\r\n",
       "------------------- ------------------------------------------------------------------------------------------------------------------------------------------------------------------------------------------------------------------------------------------------------------------------------------------------------------------------------------------------ --------- -------------- -------------------------- -------------------------- --------------------------\r\n",
       "RunQuantumAlgorithm <a href=\"https://portal.azure.com/#@microsoft.onmicrosoft.com/resource/subscriptions/916dfd6d-030c-4bd9-b579-7bb6d1926e97/resourceGroups/anpaz-demos/providers/Microsoft.Quantum/Workspaces/demo-sim/job_management?microsoft_azure_quantum_jobid=1872971b-0014-44a9-a7ad-b8b4cb108ace\" target=\"_blank\">1872971b-0014-44a9-a7ad-b8b4cb108ace</a> Succeeded ionq.simulator 3/2/2022 7:47:57 AM +00:00 3/2/2022 7:48:00 AM +00:00 3/2/2022 7:48:00 AM +00:00\r\n"
      ]
     },
     "execution_count": 33,
     "metadata": {},
     "output_type": "execute_result"
    }
   ],
   "source": [
    "%azure.status"
   ]
  },
  {
   "cell_type": "code",
   "execution_count": 34,
   "id": "9462ce11",
   "metadata": {},
   "outputs": [
    {
     "data": {
      "application/x-qsharp-data": "{\"[1,1,0,1,0,1]\":1.0}",
      "text/html": [
       "\r\n",
       "                    <table style=\"table-layout: fixed; width: 100%\">\r\n",
       "                        <thead>\r\n",
       "                            <tr>\r\n",
       "                                <th style=\"text-align: left; width: 25ch\">Result</th>\r\n",
       "                                <th style=\"text-align: left; width: 25ch\">Frequency</th>\r\n",
       "                                <th style=\"text-align: left; width: calc(100% - 25ch - 25ch)\">Histogram</th>\r\n",
       "                            </tr>\r\n",
       "                        </thead>\r\n",
       "                        <tbody>\r\n",
       "                            \r\n",
       "                            <tr>\r\n",
       "                                <td style=\"text-align: left; width: 25ch\">[1,1,0,1,0,1]</td>\r\n",
       "                                <td style=\"text-align: left; width: 25ch\">1</td>\r\n",
       "                                <td style=\"text-align: left; width: calc(100% - 25ch - 25ch)\">\r\n",
       "                                    <progress\r\n",
       "                                        max=\"100\"\r\n",
       "                                        value=\"100\"\r\n",
       "                                        style=\"width: 100%;\"\r\n",
       "                                    >\r\n",
       "                                </td>\r\n",
       "                            </tr>\r\n",
       "                        \r\n",
       "                        </tbody>\r\n",
       "                    </table>\r\n",
       "                "
      ],
      "text/plain": [
       "Result        Frequency\r\n",
       "------------- -\r\n",
       "[1,1,0,1,0,1] 1\r\n"
      ]
     },
     "execution_count": 34,
     "metadata": {},
     "output_type": "execute_result"
    }
   ],
   "source": [
    "%azure.output"
   ]
  },
  {
   "cell_type": "markdown",
   "id": "86632512",
   "metadata": {
    "slideshow": {
     "slide_type": "slide"
    }
   },
   "source": [
    "Now, run against the quantum device:"
   ]
  },
  {
   "cell_type": "code",
   "execution_count": 39,
   "id": "6a839541",
   "metadata": {
    "slideshow": {
     "slide_type": "slide"
    }
   },
   "outputs": [
    {
     "name": "stdout",
     "output_type": "stream",
     "text": [
      "Loading package Microsoft.Quantum.Providers.IonQ and dependencies...\n",
      "Active target is now ionq.qpu\n"
     ]
    },
    {
     "data": {
      "application/x-qsharp-data": "{\"id\":\"ionq.qpu\",\"current_availability\":{},\"average_queue_time\":194}",
      "text/html": [
       "<table><thead><tr><th style=\"text-align: start;\">Target ID</th><th style=\"text-align: start;\">Current Availability</th><th style=\"text-align: start;\">Average Queue Time (Seconds)</th></tr></thead><tbody><tr><td style=\"text-align: start;\">ionq.qpu</td><td style=\"text-align: start;\">Available</td><td style=\"text-align: start;\">194</td></tr></tbody></table>"
      ],
      "text/plain": [
       "Target ID Current Availability Average Queue Time (Seconds)\r\n",
       "-------- --------- ---\r\n",
       "ionq.qpu Available 194\r\n"
      ]
     },
     "execution_count": 39,
     "metadata": {},
     "output_type": "execute_result"
    }
   ],
   "source": [
    "%azure.target ionq.qpu"
   ]
  },
  {
   "cell_type": "code",
   "execution_count": 38,
   "id": "23284e10",
   "metadata": {
    "scrolled": true
   },
   "outputs": [
    {
     "name": "stdout",
     "output_type": "stream",
     "text": [
      "Submitting Q2 to target ionq.qpu...\n",
      "Job successfully submitted for 500 shots.\n",
      "   Job name: Q2\n",
      "   Job ID: 41a3abc9-4f3d-4dc9-87c1-b8f4f29f6ea7\n"
     ]
    },
    {
     "data": {
      "application/x-qsharp-data": "{\"id\":\"41a3abc9-4f3d-4dc9-87c1-b8f4f29f6ea7\",\"name\":\"Q2\",\"status\":\"Waiting\",\"uri\":\"https://portal.azure.com/#@microsoft.onmicrosoft.com/resource/subscriptions/916dfd6d-030c-4bd9-b579-7bb6d1926e97/resourceGroups/anpaz-demos/providers/Microsoft.Quantum/Workspaces/demo-sim/job_management?microsoft_azure_quantum_jobid=41a3abc9-4f3d-4dc9-87c1-b8f4f29f6ea7\",\"provider\":\"ionq\",\"target\":\"ionq.qpu\",\"creation_time\":\"2022-03-02T04:48:28.0073771+00:00\",\"begin_execution_time\":null,\"end_execution_time\":null}",
      "text/html": [
       "<table><thead><tr><th style=\"text-align: start;\">Job Name</th><th style=\"text-align: start;\">Job ID</th><th style=\"text-align: start;\">Job Status</th><th style=\"text-align: start;\">Target</th><th style=\"text-align: start;\">Creation Time</th><th style=\"text-align: start;\">Begin Execution Time</th><th style=\"text-align: start;\">End Execution Time</th></tr></thead><tbody><tr><td style=\"text-align: start;\">Q2</td><td style=\"text-align: start;\"><a href=\"https://portal.azure.com/#@microsoft.onmicrosoft.com/resource/subscriptions/916dfd6d-030c-4bd9-b579-7bb6d1926e97/resourceGroups/anpaz-demos/providers/Microsoft.Quantum/Workspaces/demo-sim/job_management?microsoft_azure_quantum_jobid=41a3abc9-4f3d-4dc9-87c1-b8f4f29f6ea7\" target=\"_blank\">41a3abc9-4f3d-4dc9-87c1-b8f4f29f6ea7</a></td><td style=\"text-align: start;\">Waiting</td><td style=\"text-align: start;\">ionq.qpu</td><td style=\"text-align: start;\">3/2/2022 4:48:28 AM +00:00</td><td style=\"text-align: start;\"></td><td style=\"text-align: start;\"></td></tr></tbody></table>"
      ],
      "text/plain": [
       "Job Name Job ID                                                                                                                                                                                                                                                                                                                                           Job Status Target   Creation Time              Begin Execution Time End Execution Time\r\n",
       "-- ------------------------------------------------------------------------------------------------------------------------------------------------------------------------------------------------------------------------------------------------------------------------------------------------------------------------------------------------ ------- -------- --------------------------\r\n",
       "Q2 <a href=\"https://portal.azure.com/#@microsoft.onmicrosoft.com/resource/subscriptions/916dfd6d-030c-4bd9-b579-7bb6d1926e97/resourceGroups/anpaz-demos/providers/Microsoft.Quantum/Workspaces/demo-sim/job_management?microsoft_azure_quantum_jobid=41a3abc9-4f3d-4dc9-87c1-b8f4f29f6ea7\" target=\"_blank\">41a3abc9-4f3d-4dc9-87c1-b8f4f29f6ea7</a> Waiting ionq.qpu 3/2/2022 4:48:28 AM +00:00\r\n"
      ]
     },
     "execution_count": 38,
     "metadata": {},
     "output_type": "execute_result"
    }
   ],
   "source": [
    "%azure.submit RunQuantumAlgorithm  n=6 h=43 debug=false"
   ]
  },
  {
   "cell_type": "markdown",
   "id": "897a18cc",
   "metadata": {
    "slideshow": {
     "slide_type": "slide"
    }
   },
   "source": [
    "This might take a while, as the QPU is really busy:"
   ]
  },
  {
   "cell_type": "code",
   "execution_count": 26,
   "id": "aaba059b",
   "metadata": {},
   "outputs": [
    {
     "data": {
      "application/x-qsharp-data": "{\"id\":\"41a3abc9-4f3d-4dc9-87c1-b8f4f29f6ea7\",\"name\":\"Q2\",\"status\":\"Succeeded\",\"uri\":\"https://portal.azure.com/#@microsoft.onmicrosoft.com/resource/subscriptions/916dfd6d-030c-4bd9-b579-7bb6d1926e97/resourceGroups/anpaz-demos/providers/Microsoft.Quantum/Workspaces/demo-sim/job_management?microsoft_azure_quantum_jobid=41a3abc9-4f3d-4dc9-87c1-b8f4f29f6ea7\",\"provider\":\"ionq\",\"target\":\"ionq.qpu\",\"creation_time\":\"2022-03-02T04:48:28.0073771+00:00\",\"begin_execution_time\":\"2022-03-02T05:41:08.343+00:00\",\"end_execution_time\":\"2022-03-02T05:41:12.604+00:00\"}",
      "text/html": [
       "<table><thead><tr><th style=\"text-align: start;\">Job Name</th><th style=\"text-align: start;\">Job ID</th><th style=\"text-align: start;\">Job Status</th><th style=\"text-align: start;\">Target</th><th style=\"text-align: start;\">Creation Time</th><th style=\"text-align: start;\">Begin Execution Time</th><th style=\"text-align: start;\">End Execution Time</th></tr></thead><tbody><tr><td style=\"text-align: start;\">Q2</td><td style=\"text-align: start;\"><a href=\"https://portal.azure.com/#@microsoft.onmicrosoft.com/resource/subscriptions/916dfd6d-030c-4bd9-b579-7bb6d1926e97/resourceGroups/anpaz-demos/providers/Microsoft.Quantum/Workspaces/demo-sim/job_management?microsoft_azure_quantum_jobid=41a3abc9-4f3d-4dc9-87c1-b8f4f29f6ea7\" target=\"_blank\">41a3abc9-4f3d-4dc9-87c1-b8f4f29f6ea7</a></td><td style=\"text-align: start;\">Succeeded</td><td style=\"text-align: start;\">ionq.qpu</td><td style=\"text-align: start;\">3/2/2022 4:48:28 AM +00:00</td><td style=\"text-align: start;\">3/2/2022 5:41:08 AM +00:00</td><td style=\"text-align: start;\">3/2/2022 5:41:12 AM +00:00</td></tr></tbody></table>"
      ],
      "text/plain": [
       "Job Name Job ID                                                                                                                                                                                                                                                                                                                                           Job Status Target   Creation Time              Begin Execution Time       End Execution Time\r\n",
       "-- ------------------------------------------------------------------------------------------------------------------------------------------------------------------------------------------------------------------------------------------------------------------------------------------------------------------------------------------------ --------- -------- -------------------------- -------------------------- --------------------------\r\n",
       "Q2 <a href=\"https://portal.azure.com/#@microsoft.onmicrosoft.com/resource/subscriptions/916dfd6d-030c-4bd9-b579-7bb6d1926e97/resourceGroups/anpaz-demos/providers/Microsoft.Quantum/Workspaces/demo-sim/job_management?microsoft_azure_quantum_jobid=41a3abc9-4f3d-4dc9-87c1-b8f4f29f6ea7\" target=\"_blank\">41a3abc9-4f3d-4dc9-87c1-b8f4f29f6ea7</a> Succeeded ionq.qpu 3/2/2022 4:48:28 AM +00:00 3/2/2022 5:41:08 AM +00:00 3/2/2022 5:41:12 AM +00:00\r\n"
      ]
     },
     "execution_count": 26,
     "metadata": {},
     "output_type": "execute_result"
    }
   ],
   "source": [
    " %azure.status 41a3abc9-4f3d-4dc9-87c1-b8f4f29f6ea7"
   ]
  },
  {
   "cell_type": "code",
   "execution_count": 28,
   "id": "587feea0",
   "metadata": {},
   "outputs": [
    {
     "data": {
      "application/x-qsharp-data": "{\"[1,1,0,0,0,0]\":0.002,\"[1,0,0,1,0,0]\":0.002,\"[1,1,0,1,0,0]\":0.036,\"[1,1,0,0,0,1]\":0.01,\"[1,0,0,1,0,1]\":0.006,\"[0,1,0,1,0,1]\":0.014,\"[1,1,0,1,0,1]\":0.908,\"[1,1,0,1,1,1]\":0.018,\"[0,0,0,0,0,0]\":0.002,\"[1,0,0,0,0,0]\":0.002}",
      "text/html": [
       "\r\n",
       "                    <table style=\"table-layout: fixed; width: 100%\">\r\n",
       "                        <thead>\r\n",
       "                            <tr>\r\n",
       "                                <th style=\"text-align: left; width: 25ch\">Result</th>\r\n",
       "                                <th style=\"text-align: left; width: 25ch\">Frequency</th>\r\n",
       "                                <th style=\"text-align: left; width: calc(100% - 25ch - 25ch)\">Histogram</th>\r\n",
       "                            </tr>\r\n",
       "                        </thead>\r\n",
       "                        <tbody>\r\n",
       "                            \r\n",
       "                            <tr>\r\n",
       "                                <td style=\"text-align: left; width: 25ch\">[1,1,0,0,0,0]</td>\r\n",
       "                                <td style=\"text-align: left; width: 25ch\">0.002</td>\r\n",
       "                                <td style=\"text-align: left; width: calc(100% - 25ch - 25ch)\">\r\n",
       "                                    <progress\r\n",
       "                                        max=\"100\"\r\n",
       "                                        value=\"0.2\"\r\n",
       "                                        style=\"width: 100%;\"\r\n",
       "                                    >\r\n",
       "                                </td>\r\n",
       "                            </tr>\r\n",
       "                        \n",
       "\r\n",
       "                            <tr>\r\n",
       "                                <td style=\"text-align: left; width: 25ch\">[1,0,0,1,0,0]</td>\r\n",
       "                                <td style=\"text-align: left; width: 25ch\">0.002</td>\r\n",
       "                                <td style=\"text-align: left; width: calc(100% - 25ch - 25ch)\">\r\n",
       "                                    <progress\r\n",
       "                                        max=\"100\"\r\n",
       "                                        value=\"0.2\"\r\n",
       "                                        style=\"width: 100%;\"\r\n",
       "                                    >\r\n",
       "                                </td>\r\n",
       "                            </tr>\r\n",
       "                        \n",
       "\r\n",
       "                            <tr>\r\n",
       "                                <td style=\"text-align: left; width: 25ch\">[1,1,0,1,0,0]</td>\r\n",
       "                                <td style=\"text-align: left; width: 25ch\">0.036</td>\r\n",
       "                                <td style=\"text-align: left; width: calc(100% - 25ch - 25ch)\">\r\n",
       "                                    <progress\r\n",
       "                                        max=\"100\"\r\n",
       "                                        value=\"3.5999999999999996\"\r\n",
       "                                        style=\"width: 100%;\"\r\n",
       "                                    >\r\n",
       "                                </td>\r\n",
       "                            </tr>\r\n",
       "                        \n",
       "\r\n",
       "                            <tr>\r\n",
       "                                <td style=\"text-align: left; width: 25ch\">[1,1,0,0,0,1]</td>\r\n",
       "                                <td style=\"text-align: left; width: 25ch\">0.01</td>\r\n",
       "                                <td style=\"text-align: left; width: calc(100% - 25ch - 25ch)\">\r\n",
       "                                    <progress\r\n",
       "                                        max=\"100\"\r\n",
       "                                        value=\"1\"\r\n",
       "                                        style=\"width: 100%;\"\r\n",
       "                                    >\r\n",
       "                                </td>\r\n",
       "                            </tr>\r\n",
       "                        \n",
       "\r\n",
       "                            <tr>\r\n",
       "                                <td style=\"text-align: left; width: 25ch\">[1,0,0,1,0,1]</td>\r\n",
       "                                <td style=\"text-align: left; width: 25ch\">0.006</td>\r\n",
       "                                <td style=\"text-align: left; width: calc(100% - 25ch - 25ch)\">\r\n",
       "                                    <progress\r\n",
       "                                        max=\"100\"\r\n",
       "                                        value=\"0.6\"\r\n",
       "                                        style=\"width: 100%;\"\r\n",
       "                                    >\r\n",
       "                                </td>\r\n",
       "                            </tr>\r\n",
       "                        \n",
       "\r\n",
       "                            <tr>\r\n",
       "                                <td style=\"text-align: left; width: 25ch\">[0,1,0,1,0,1]</td>\r\n",
       "                                <td style=\"text-align: left; width: 25ch\">0.014</td>\r\n",
       "                                <td style=\"text-align: left; width: calc(100% - 25ch - 25ch)\">\r\n",
       "                                    <progress\r\n",
       "                                        max=\"100\"\r\n",
       "                                        value=\"1.4000000000000001\"\r\n",
       "                                        style=\"width: 100%;\"\r\n",
       "                                    >\r\n",
       "                                </td>\r\n",
       "                            </tr>\r\n",
       "                        \n",
       "\r\n",
       "                            <tr>\r\n",
       "                                <td style=\"text-align: left; width: 25ch\">[1,1,0,1,0,1]</td>\r\n",
       "                                <td style=\"text-align: left; width: 25ch\">0.908</td>\r\n",
       "                                <td style=\"text-align: left; width: calc(100% - 25ch - 25ch)\">\r\n",
       "                                    <progress\r\n",
       "                                        max=\"100\"\r\n",
       "                                        value=\"90.8\"\r\n",
       "                                        style=\"width: 100%;\"\r\n",
       "                                    >\r\n",
       "                                </td>\r\n",
       "                            </tr>\r\n",
       "                        \n",
       "\r\n",
       "                            <tr>\r\n",
       "                                <td style=\"text-align: left; width: 25ch\">[1,1,0,1,1,1]</td>\r\n",
       "                                <td style=\"text-align: left; width: 25ch\">0.018</td>\r\n",
       "                                <td style=\"text-align: left; width: calc(100% - 25ch - 25ch)\">\r\n",
       "                                    <progress\r\n",
       "                                        max=\"100\"\r\n",
       "                                        value=\"1.7999999999999998\"\r\n",
       "                                        style=\"width: 100%;\"\r\n",
       "                                    >\r\n",
       "                                </td>\r\n",
       "                            </tr>\r\n",
       "                        \n",
       "\r\n",
       "                            <tr>\r\n",
       "                                <td style=\"text-align: left; width: 25ch\">[0,0,0,0,0,0]</td>\r\n",
       "                                <td style=\"text-align: left; width: 25ch\">0.002</td>\r\n",
       "                                <td style=\"text-align: left; width: calc(100% - 25ch - 25ch)\">\r\n",
       "                                    <progress\r\n",
       "                                        max=\"100\"\r\n",
       "                                        value=\"0.2\"\r\n",
       "                                        style=\"width: 100%;\"\r\n",
       "                                    >\r\n",
       "                                </td>\r\n",
       "                            </tr>\r\n",
       "                        \n",
       "\r\n",
       "                            <tr>\r\n",
       "                                <td style=\"text-align: left; width: 25ch\">[1,0,0,0,0,0]</td>\r\n",
       "                                <td style=\"text-align: left; width: 25ch\">0.002</td>\r\n",
       "                                <td style=\"text-align: left; width: calc(100% - 25ch - 25ch)\">\r\n",
       "                                    <progress\r\n",
       "                                        max=\"100\"\r\n",
       "                                        value=\"0.2\"\r\n",
       "                                        style=\"width: 100%;\"\r\n",
       "                                    >\r\n",
       "                                </td>\r\n",
       "                            </tr>\r\n",
       "                        \r\n",
       "                        </tbody>\r\n",
       "                    </table>\r\n",
       "                "
      ],
      "text/plain": [
       "Result        Frequency\r\n",
       "------------- -----\r\n",
       "[1,1,0,0,0,0] 0.002\r\n",
       "[1,0,0,1,0,0] 0.002\r\n",
       "[1,1,0,1,0,0] 0.036\r\n",
       "[1,1,0,0,0,1] 0.01\r\n",
       "[1,0,0,1,0,1] 0.006\r\n",
       "[0,1,0,1,0,1] 0.014\r\n",
       "[1,1,0,1,0,1] 0.908\r\n",
       "[1,1,0,1,1,1] 0.018\r\n",
       "[0,0,0,0,0,0] 0.002\r\n",
       "[1,0,0,0,0,0] 0.002\r\n"
      ]
     },
     "execution_count": 28,
     "metadata": {},
     "output_type": "execute_result"
    }
   ],
   "source": [
    "%azure.output 41a3abc9-4f3d-4dc9-87c1-b8f4f29f6ea7"
   ]
  },
  {
   "cell_type": "markdown",
   "id": "ce57164e",
   "metadata": {},
   "source": [
    "Notice the output of the qpu reports some incorrect results, this is driven by the noise on existing quantum hardware that does not include any error correction mechanism."
   ]
  },
  {
   "cell_type": "markdown",
   "id": "127dc577",
   "metadata": {
    "slideshow": {
     "slide_type": "slide"
    }
   },
   "source": [
    "# Next steps"
   ]
  },
  {
   "cell_type": "markdown",
   "id": "38cac9e3",
   "metadata": {},
   "source": [
    "I recommended visiting the [Quantum Katas](https://aka.ms/quantum-katas) to continue learning about Q# and quantum computing.\n",
    "\n",
    "The quantum katas are a self-paced hands on exercises that help you learn about the basic elements of quantum computing and even advanced algorithms.\n",
    "\n",
    "Visit https://aka.ms/quantum-katas to learn more."
   ]
  },
  {
   "cell_type": "code",
   "execution_count": null,
   "id": "4ff5a435",
   "metadata": {},
   "outputs": [],
   "source": []
  }
 ],
 "metadata": {
  "kernelspec": {
   "display_name": "Q#",
   "language": "qsharp",
   "name": "iqsharp"
  },
  "language_info": {
   "file_extension": ".qs",
   "mimetype": "text/x-qsharp",
   "name": "qsharp",
   "version": "0.14"
  }
 },
 "nbformat": 4,
 "nbformat_minor": 5
}
