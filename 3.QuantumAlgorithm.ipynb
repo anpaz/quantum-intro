{
 "cells": [
  {
   "cell_type": "markdown",
   "id": "7198b836",
   "metadata": {
    "slideshow": {
     "slide_type": "slide"
    }
   },
   "source": [
    "# A quantum algorithm"
   ]
  },
  {
   "cell_type": "markdown",
   "id": "76a8f18f",
   "metadata": {
    "slideshow": {
     "slide_type": "notes"
    }
   },
   "source": [
    "\n",
    "Bernstein-Vazirani is an example of a problem that a quantum algorithm can solve in significantly less number of steps than any classical solution.\n",
    "\n",
    "Not a practical problem, though, but easy to understand.\n",
    "\n"
   ]
  },
  {
   "cell_type": "markdown",
   "id": "21ea3953",
   "metadata": {
    "slideshow": {
     "slide_type": "slide"
    }
   },
   "source": [
    "Given:\n",
    "\n",
    "$$ f_h(x) = h \\cdot x \\mod 2 $$\n",
    "\n",
    "Where:\n",
    "\n",
    "  * $h$: is the hidden variable\n",
    "  * $x$: is the input variable\n",
    "  * $\\cdot$: is the *dot* product of $x$ and $h$, i.e. for register of size $n$:\n",
    "    $$ \\sum_i^n = h_i \\times x_i $$\n",
    "    \n",
    "Find $h$."
   ]
  },
  {
   "cell_type": "markdown",
   "id": "3861ae93",
   "metadata": {
    "slideshow": {
     "slide_type": "slide"
    }
   },
   "source": [
    "Suppose someone gives you an oracle `f` for a hidden number `h`. The oracle receives an integer `x` and returns:\n",
    "\n",
    "* **1**: if the number of bits in the input that match the bits of the hidden value is even.\n",
    "* **0**: if the number of bits in the input that match the bits of the hidden value is odd.\n",
    "\n",
    "\n",
    "The problem is to find the value of `h`.\n",
    "\n"
   ]
  },
  {
   "cell_type": "markdown",
   "id": "0eb4c6d7",
   "metadata": {
    "slideshow": {
     "slide_type": "slide"
    }
   },
   "source": [
    "As an example, this is the output of oracle the oracle for $n$=3, $h$=6 (`[110]`) and all possible $x$:\n",
    "\n",
    "$$\n",
    "\\begin{array}{|c|c|c|}\n",
    "x & x_b (bits) & f_h(x) \\\\ \n",
    "\\hline \n",
    "0 & 000 & 0 \\\\\n",
    "1 & 001 & 0 \\\\\n",
    "2 & 010 & 1 \\\\\n",
    "3 & 011 & 1 \\\\\n",
    "4 & 100 & 1 \\\\\n",
    "5 & 101 & 1 \\\\\n",
    "6 & 110 & 0 \\\\\n",
    "7 & 111 & 0 \\\\\n",
    "\\end{array}\n",
    "$$\n",
    "\n",
    "\n"
   ]
  },
  {
   "cell_type": "markdown",
   "id": "86a67a2a",
   "metadata": {
    "slideshow": {
     "slide_type": "slide"
    }
   },
   "source": [
    "\n",
    "For registers of size $n$, **the best classical solution requires the code to call the oracle $n$ times** to find the hidden value $h$. It goes by this:\n",
    "\n",
    "```\n",
    "for i in 0 .. n-1\n",
    "   Call the oracle with the number x that only has the i-th bit on\n",
    "   if the oracle returns 1, the i-th bit of h is 1, otherwise it is 0\n",
    "\n",
    "```\n",
    "\n",
    "For example, if `h=6 [110]` and `n=3`:\n",
    "\n",
    "```\n",
    "h_0 = f(001) // returns 0\n",
    "h_1 = f(010) // returns 1\n",
    "h_2 = f(100) // returns 1\n",
    "\n",
    "h = [110]     // as expected\n",
    "```\n",
    "\n"
   ]
  },
  {
   "cell_type": "markdown",
   "id": "257d1f2d",
   "metadata": {
    "slideshow": {
     "slide_type": "notes"
    }
   },
   "source": [
    "In Q#, you can implement a function that creates this classical oracle with this code: "
   ]
  },
  {
   "cell_type": "code",
   "execution_count": null,
   "id": "f8833633",
   "metadata": {
    "slideshow": {
     "slide_type": "slide"
    }
   },
   "outputs": [],
   "source": [
    "// Required for IntAsBoolArray\n",
    "open Microsoft.Quantum.Convert;\n",
    "\n",
    "// Implements the classical oracle for the hidden input variable\n",
    "function ClassicOracle(n: Int, hidden: Int, x: Int) : Bool {\n",
    "    // Get the bits of the int as an array:\n",
    "    let h_bits = IntAsBoolArray(hidden, n);\n",
    "    let x_bits = IntAsBoolArray(x, n);\n",
    "\n",
    "    mutable result = 0;\n",
    "\n",
    "    // Implement the dot product of the bits:\n",
    "    for i in 0 .. n-1 {\n",
    "        if (h_bits[i] and x_bits[i]) {\n",
    "            set result += 1;\n",
    "        }\n",
    "    }\n",
    "\n",
    "    // Print a message on the console to report the oracle was called.\n",
    "    Message($\"Oracle C (h:{hidden}, x:{x}) - {result}.\");\n",
    "\n",
    "    // Return the mod 2 of the result:\n",
    "    return (result % 2) == 1;\n",
    "}\n",
    "\n",
    "function CreateClassicOracle(n: Int, h: Int) : (Int) -> Bool {\n",
    "    return ClassicOracle(n, h, _);\n",
    "}\n"
   ]
  },
  {
   "cell_type": "markdown",
   "id": "0d19bac1",
   "metadata": {
    "slideshow": {
     "slide_type": "slide"
    }
   },
   "source": [
    "To test the classic oracle, we can use the following function that create the oracle for any given `h`, and prints its output for each possible input:\n"
   ]
  },
  {
   "cell_type": "code",
   "execution_count": null,
   "id": "d8905b7f",
   "metadata": {
    "slideshow": {
     "slide_type": "-"
    }
   },
   "outputs": [],
   "source": [
    "function TestClassicOracle(h: Int) : Unit {\n",
    "    let n = 3; // number of bits\n",
    "    let N = 1 <<< n; // 2^n: total number of integers\n",
    "    \n",
    "    // Create an oracle for the given hidden variable:\n",
    "    let oracle = CreateClassicOracle(n, h);\n",
    "    \n",
    "    // Call the oracle for every possible value of X to see the values.\n",
    "    for x in 0 .. N-1{\n",
    "        Message($\"{x}: {oracle(x)}\");\n",
    "    }    \n",
    "}"
   ]
  },
  {
   "cell_type": "code",
   "execution_count": null,
   "id": "f4c7e2cf",
   "metadata": {
    "slideshow": {
     "slide_type": "slide"
    }
   },
   "outputs": [],
   "source": [
    "%simulate TestClassicOracle h=6"
   ]
  },
  {
   "cell_type": "markdown",
   "id": "034027e5",
   "metadata": {
    "slideshow": {
     "slide_type": "notes"
    }
   },
   "source": [
    "The actual classical algorithm follows:"
   ]
  },
  {
   "cell_type": "code",
   "execution_count": null,
   "id": "11d991f2",
   "metadata": {
    "slideshow": {
     "slide_type": "slide"
    }
   },
   "outputs": [],
   "source": [
    "function ClassicalAlgorithm(n: Int, oracle: (Int) -> Bool) : Int {\n",
    "    mutable result = [false, size=n];\n",
    "\n",
    "    for i in 0 .. n-1 {\n",
    "        if (oracle(1 <<< i)) {\n",
    "            set result w/= i <- true;\n",
    "        }\n",
    "    }\n",
    "\n",
    "    let r = BoolArrayAsInt(result);\n",
    "    Message($\"Classical Result: {r}\");\n",
    "\n",
    "    return r;\n",
    "}\n",
    "\n",
    "operation RunClassicalAlgorithm(n: Int, h: Int) : Int {\n",
    "    let oracle = CreateClassicOracle(n, h);\n",
    "    let r = ClassicalAlgorithm(n, oracle);\n",
    "    \n",
    "    return r;\n",
    "}"
   ]
  },
  {
   "cell_type": "markdown",
   "id": "cb6c94ec",
   "metadata": {
    "slideshow": {
     "slide_type": "slide"
    }
   },
   "source": [
    "A simple example of running the algorithm, it prints each time the oracle is called:"
   ]
  },
  {
   "cell_type": "code",
   "execution_count": null,
   "id": "779bc9e7",
   "metadata": {
    "slideshow": {
     "slide_type": "-"
    }
   },
   "outputs": [],
   "source": [
    "%simulate RunClassicalAlgorithm n=3 h=6"
   ]
  },
  {
   "cell_type": "markdown",
   "id": "3fbdee33",
   "metadata": {
    "slideshow": {
     "slide_type": "notes"
    }
   },
   "source": [
    "As expected, if we increase the  number of bits, the calls to the oracle increases accordingly:"
   ]
  },
  {
   "cell_type": "code",
   "execution_count": null,
   "id": "e87bc449",
   "metadata": {
    "slideshow": {
     "slide_type": "slide"
    }
   },
   "outputs": [],
   "source": [
    "%simulate RunClassicalAlgorithm n=30 h=432100"
   ]
  },
  {
   "cell_type": "markdown",
   "id": "2409de28",
   "metadata": {
    "slideshow": {
     "slide_type": "slide"
    }
   },
   "source": [
    "\n",
    "As we just saw, the classical solution takes $n$ calls to the oracle to find the solution. The quantum version requires only **1** call to the oracle to find the hidden value!\n",
    "\n",
    "The quantum algorithm goes something like this:\n",
    "\n",
    "```\n",
    "   1. Prepare the state of the register to be in full super-position\n",
    "   2. Apply the oracle once, to the phase of the register\n",
    "   3. Undo the state preparation\n",
    "```\n"
   ]
  },
  {
   "cell_type": "markdown",
   "id": "4d0c7f4a",
   "metadata": {
    "slideshow": {
     "slide_type": "notes"
    }
   },
   "source": [
    "The keys are:\n",
    "1. by applying the oracle on a register prepared in a state of full super-position you can leverage quantum-parallelism to apply the oracle to all possible inputs.\n",
    "2. when the oracle is applied to the phase, it creates interference on the state of the register and undoing the state preparation leaves only the hidden bits on.\n",
    "\n",
    "The mathematical proof is out of scope for this workshop, but it is described [here](https://qiskit.org/textbook/ch-algorithms/bernstein-vazirani.html#1.3-The-Quantum-Solution--)"
   ]
  },
  {
   "cell_type": "markdown",
   "id": "3be5a367",
   "metadata": {
    "slideshow": {
     "slide_type": "notes"
    }
   },
   "source": [
    "The implementation of the quantum oracle in Q# is very similar to the classical oracle:"
   ]
  },
  {
   "cell_type": "code",
   "execution_count": null,
   "id": "09922dc1",
   "metadata": {
    "slideshow": {
     "slide_type": "slide"
    }
   },
   "outputs": [],
   "source": [
    "// A Quantum Oracle. The main difference is that the oracle receives a qubit register as input\n",
    "// and the result of the oracle is returned in another qubit, not the result of the operation.\n",
    "operation QuantumOracle(n: Int, h: Int, x: Qubit[], result: Qubit) : Unit \n",
    "is Adj {\n",
    "    let bits = IntAsBoolArray(h, n);\n",
    "\n",
    "    for i in 0 .. n-1 {\n",
    "        // Apply a controlled X, i.e. a conditional quantum application\n",
    "        // only on the bits that are on the hidden variable.\n",
    "        if (bits[i]) {\n",
    "            Controlled X([x[i]], result);\n",
    "        }\n",
    "    }\n",
    "\n",
    "    Message(\"Oracle Q\");\n",
    "}\n",
    "\n",
    "function CreateQuantumOracle(n: Int, value: Int) : (Qubit[], Qubit) => Unit {\n",
    "    return QuantumOracle(n, value, _, _);\n",
    "}\n"
   ]
  },
  {
   "cell_type": "markdown",
   "id": "52dd7c17",
   "metadata": {
    "slideshow": {
     "slide_type": "slide"
    }
   },
   "source": [
    "As with the classical case, we can write a simple test function that reports the return value of the oracle for each possible input.\n",
    "\n",
    "Notice the input needs to be encoded in a quantum register, the output is also encoded as the value of a single qubit:"
   ]
  },
  {
   "cell_type": "code",
   "execution_count": null,
   "id": "9a38e558",
   "metadata": {
    "slideshow": {
     "slide_type": "slide"
    }
   },
   "outputs": [],
   "source": [
    "// Helper function that encodes an integer in the state of a quantum register\n",
    "operation  EncodeIntOnQuantumRegister(value: Int, register: Qubit[]) : Unit \n",
    "is Adj {\n",
    "    let n = Length(register);\n",
    "    let bits = IntAsBoolArray(value, n);\n",
    "    \n",
    "    // Check every bit, flip the quantum bit that is on on the classical representation:\n",
    "    for i in 0 .. n-1 {\n",
    "        if (bits[i]) {\n",
    "            X(register[i]);\n",
    "        }\n",
    "    }\n",
    "}\n",
    "\n",
    "// A method to call the oracle with each possible input and report the oracle value\n",
    "operation TestQuanumOracle(h: Int) : Unit {\n",
    "    let n = 3; // number of bits\n",
    "    let N = 1 <<< n; // 2^n: total number of integers\n",
    "    \n",
    "    // Create a quantum oracle for the given hidden variable:\n",
    "    let oracle = CreateQuantumOracle(n, h);\n",
    "    \n",
    "    // Call the oracle for every possible value of X to see the values.\n",
    "    for i in 0 .. N-1{\n",
    "        use x = Qubit[3];\n",
    "        use y = Qubit();\n",
    "        \n",
    "        EncodeIntOnQuantumRegister(i, x);        \n",
    "        oracle(x, y);\n",
    "        let r = M(y);\n",
    "        Message($\"{i}: {r}\");\n",
    "        \n",
    "        Adjoint EncodeIntOnQuantumRegister(i, x);\n",
    "    }    \n",
    "}"
   ]
  },
  {
   "cell_type": "code",
   "execution_count": null,
   "id": "0ba5ce8b",
   "metadata": {
    "slideshow": {
     "slide_type": "slide"
    }
   },
   "outputs": [],
   "source": [
    "%simulate TestQuanumOracle h=6"
   ]
  },
  {
   "cell_type": "markdown",
   "id": "9016c59e",
   "metadata": {
    "slideshow": {
     "slide_type": "slide"
    }
   },
   "source": [
    "As expected, the output of the oracle matches the classical values.\n",
    "\n",
    "Now let's implement the quantum algorithm. We need a couple of helper functions to keep the main algorithm clean:"
   ]
  },
  {
   "cell_type": "code",
   "execution_count": null,
   "id": "4126a45b",
   "metadata": {
    "slideshow": {
     "slide_type": "slide"
    }
   },
   "outputs": [],
   "source": [
    "open Microsoft.Quantum.Diagnostics;\n",
    "\n",
    "// A helper operation that prepares the register and results in full superposition.\n",
    "operation PrepareState(register: Qubit[], result: Qubit) : Unit\n",
    "is Adj {\n",
    "    ApplyToEachA(H, register);\n",
    "    // The result needs to be in |->, so it affects the phase.\n",
    "    X(result);\n",
    "    H(result);\n",
    "}\n",
    "\n",
    "// A helper function that prints the state of the quantum register with the given message.\n",
    "function PrintState(debug: Bool, msg: String, register: Qubit[]) : Unit {\n",
    "    if debug {\n",
    "        Message(msg);\n",
    "        DumpRegister((), register);\n",
    "    }\n",
    "}\n"
   ]
  },
  {
   "cell_type": "code",
   "execution_count": null,
   "id": "a01faf27",
   "metadata": {
    "slideshow": {
     "slide_type": "slide"
    }
   },
   "outputs": [],
   "source": [
    "open Microsoft.Quantum.Measurement;\n",
    "\n",
    "// The implementation of the quantum algorithm\n",
    "operation QuantumAlgorithm(n: Int, oracle: (Qubit[], Qubit) => Unit, debug: Bool) : Result[] {\n",
    "    use register = Qubit[n];\n",
    "    use result = Qubit();\n",
    "\n",
    "    // 1. Prepare state in super position:\n",
    "    PrepareState(register, result);\n",
    "    PrintState(debug, \"State prepared in full-superposition\", register);\n",
    "    \n",
    "    // 2. Apply the oracle **once**, notice the oracle affects the phase of the register.\n",
    "    oracle(register, result);\n",
    "    PrintState(debug, \"Apply the oracle\", register);\n",
    "    \n",
    "    // 3. Undo the state preparation by calling 'Adjoint'\n",
    "    Adjoint PrepareState(register, result);\n",
    "    PrintState(debug, \"Undo state preparation\", register);\n",
    "    \n",
    "    // Read the value from the register:\n",
    "    let r = MultiM(register);\n",
    "    if debug { Message($\"Quantum Result: {r}\"); }\n",
    "    \n",
    "    return r;\n",
    "}"
   ]
  },
  {
   "cell_type": "code",
   "execution_count": null,
   "id": "b882da49",
   "metadata": {
    "slideshow": {
     "slide_type": "slide"
    }
   },
   "outputs": [],
   "source": [
    "// A simple driver that runs the quantum algorithm and returns its output:\n",
    "operation RunQuantumAlgorithm(n: Int, h: Int, debug:Bool) : Result[] {\n",
    "    let oracle = CreateQuantumOracle(n, h);\n",
    "    \n",
    "    let expected = IntAsBoolArray(h, n);\n",
    "    Message($\"h: {expected}\\n\");\n",
    "    \n",
    "    let actual = QuantumAlgorithm(n, oracle, debug);\n",
    "    \n",
    "    if debug {\n",
    "        Message($\"Expected: {expected}\");\n",
    "        Message($\"Actual: {actual}\");\n",
    "    }\n",
    "    \n",
    "    return actual;\n",
    "}"
   ]
  },
  {
   "cell_type": "markdown",
   "id": "2ff083d5",
   "metadata": {
    "slideshow": {
     "slide_type": "notes"
    }
   },
   "source": [
    "Run the quantum algorithm with `debug` turned on. We're printing the state of the register on every step. Notice how the state changes \n",
    "\n",
    "1. $|0\\rangle$\n",
    "2. full-superposition\n",
    "3. the bits reported by the oracle have a negative phase\n",
    "4. the state of the hidden input"
   ]
  },
  {
   "cell_type": "code",
   "execution_count": null,
   "id": "1a1fc753",
   "metadata": {
    "scrolled": false,
    "slideshow": {
     "slide_type": "slide"
    }
   },
   "outputs": [],
   "source": [
    "%simulate RunQuantumAlgorithm n=3 h=6 debug=true"
   ]
  },
  {
   "cell_type": "markdown",
   "id": "bdb2291e",
   "metadata": {
    "slideshow": {
     "slide_type": "slide"
    }
   },
   "source": [
    "Finally, run the algorithm with debug turned off to clearly see how many times the oracle is called. It is called only once regardless of the size of `n`."
   ]
  },
  {
   "cell_type": "code",
   "execution_count": null,
   "id": "954cc580",
   "metadata": {
    "slideshow": {
     "slide_type": "slide"
    }
   },
   "outputs": [],
   "source": [
    "%simulate RunQuantumAlgorithm n=15 h=23789 debug=false"
   ]
  },
  {
   "cell_type": "markdown",
   "id": "5d8b4e1c",
   "metadata": {
    "slideshow": {
     "slide_type": "notes"
    }
   },
   "source": [
    "### Running on the cloud\n",
    "\n",
    "As any other Q# program, it is easy to run this exact program on the cloud.\n",
    "\n",
    "**To get started type `%azure.connect` on the cell below to insert the `%azure.connect` snippet.**\n",
    "\n",
    "If you are running on a local instance of Jupyter Notebooks, you'll also need to manually type the workspace id and the location. These values can be found in the Overview section of the Workspace in the Azure Portal. See [%azure.connect](https://docs.microsoft.com/en-us/qsharp/api/iqsharp-magic/azure.connect#examples-for-azureconnect) for details and examples."
   ]
  },
  {
   "cell_type": "code",
   "execution_count": null,
   "id": "e2d17f82",
   "metadata": {
    "slideshow": {
     "slide_type": "slide"
    }
   },
   "outputs": [],
   "source": []
  },
  {
   "cell_type": "markdown",
   "id": "761442dd",
   "metadata": {},
   "source": [
    "Test by running on the simulator first:"
   ]
  },
  {
   "cell_type": "code",
   "execution_count": null,
   "id": "a00ac4f8",
   "metadata": {},
   "outputs": [],
   "source": [
    "%azure.target ionq.simulator"
   ]
  },
  {
   "cell_type": "code",
   "execution_count": null,
   "id": "8f9545ee",
   "metadata": {
    "scrolled": true,
    "slideshow": {
     "slide_type": "slide"
    }
   },
   "outputs": [],
   "source": [
    "%azure.submit RunQuantumAlgorithm  n=6 h=43 debug=false"
   ]
  },
  {
   "cell_type": "code",
   "execution_count": null,
   "id": "f1e9a6dd",
   "metadata": {
    "scrolled": true
   },
   "outputs": [],
   "source": [
    "%azure.status"
   ]
  },
  {
   "cell_type": "code",
   "execution_count": null,
   "id": "9462ce11",
   "metadata": {},
   "outputs": [],
   "source": [
    "%azure.output"
   ]
  },
  {
   "cell_type": "markdown",
   "id": "86632512",
   "metadata": {
    "slideshow": {
     "slide_type": "slide"
    }
   },
   "source": [
    "Now, run against the quantum device:"
   ]
  },
  {
   "cell_type": "code",
   "execution_count": null,
   "id": "6a839541",
   "metadata": {
    "slideshow": {
     "slide_type": "slide"
    }
   },
   "outputs": [],
   "source": [
    "%azure.target ionq.qpu"
   ]
  },
  {
   "cell_type": "code",
   "execution_count": null,
   "id": "23284e10",
   "metadata": {
    "scrolled": true
   },
   "outputs": [],
   "source": [
    "%azure.submit RunQuantumAlgorithm  n=6 h=43 debug=false"
   ]
  },
  {
   "cell_type": "markdown",
   "id": "897a18cc",
   "metadata": {
    "slideshow": {
     "slide_type": "slide"
    }
   },
   "source": [
    "This might take a while, as the QPU is really busy:"
   ]
  },
  {
   "cell_type": "code",
   "execution_count": null,
   "id": "aaba059b",
   "metadata": {},
   "outputs": [],
   "source": [
    "%azure.status"
   ]
  },
  {
   "cell_type": "code",
   "execution_count": null,
   "id": "587feea0",
   "metadata": {},
   "outputs": [],
   "source": [
    "%azure.output"
   ]
  },
  {
   "cell_type": "markdown",
   "id": "ce57164e",
   "metadata": {},
   "source": [
    "Notice the output of the qpu reports some incorrect results, this is driven by the noise on existing quantum hardware that does not include any error correction mechanism."
   ]
  },
  {
   "cell_type": "markdown",
   "id": "127dc577",
   "metadata": {
    "slideshow": {
     "slide_type": "slide"
    }
   },
   "source": [
    "# Next steps"
   ]
  },
  {
   "cell_type": "markdown",
   "id": "ae00edfe",
   "metadata": {},
   "source": [
    "I recommended visiting the [Quantum Katas](https://aka.ms/quantum-katas) to continue learning about Q# and quantum computing.\n",
    "\n",
    "The quantum katas are a self-paced hands on exercises that help you learn about the basic elements of quantum computing and even advanced algorithms.\n",
    "\n",
    "Visit https://aka.ms/quantum-katas to learn more."
   ]
  }
 ],
 "metadata": {
  "kernelspec": {
   "display_name": "Q#",
   "language": "qsharp",
   "name": "iqsharp"
  },
  "language_info": {
   "file_extension": ".qs",
   "mimetype": "text/x-qsharp",
   "name": "qsharp",
   "version": "0.14"
  }
 },
 "nbformat": 4,
 "nbformat_minor": 5
}
