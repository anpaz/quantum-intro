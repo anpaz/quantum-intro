{
 "cells": [
  {
   "cell_type": "markdown",
   "metadata": {
    "slideshow": {
     "slide_type": "slide"
    }
   },
   "source": [
    "# Quantum Computing\n",
    "\n",
    "## Agenda\n",
    "\n",
    "   * [Quantum computing superpower](./1.QuantumIntro.ipynb)\n",
    "   * [A programming language for quantum programs](./2.QsharpIntro.ipynb)\n",
    "   * [A faster quantum algorithm](./3.QuantumAlgorithm.ipynb)"
   ]
  }
 ],
 "metadata": {
  "kernelspec": {
   "display_name": "Q#",
   "language": "qsharp",
   "name": "iqsharp"
  },
  "language_info": {
   "file_extension": ".qs",
   "mimetype": "text/x-qsharp",
   "name": "qsharp",
   "version": "0.14"
  }
 },
 "nbformat": 4,
 "nbformat_minor": 2
}
